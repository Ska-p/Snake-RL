{
 "cells": [
  {
   "cell_type": "markdown",
   "metadata": {
    "id": "dZB_aTdCz8Ed"
   },
   "source": [
    "# Snake"
   ]
  },
  {
   "cell_type": "code",
   "execution_count": 1,
   "metadata": {
    "ExecuteTime": {
     "end_time": "2024-01-05T21:49:54.740569Z",
     "start_time": "2024-01-05T21:49:54.724713Z"
    },
    "id": "zBpHeLCZz8Ee"
   },
   "outputs": [
    {
     "name": "stderr",
     "output_type": "stream",
     "text": [
      "2024-03-18 10:27:34.107754: I tensorflow/core/util/port.cc:113] oneDNN custom operations are on. You may see slightly different numerical results due to floating-point round-off errors from different computation orders. To turn them off, set the environment variable `TF_ENABLE_ONEDNN_OPTS=0`.\n",
      "2024-03-18 10:27:34.135458: E external/local_xla/xla/stream_executor/cuda/cuda_dnn.cc:9261] Unable to register cuDNN factory: Attempting to register factory for plugin cuDNN when one has already been registered\n",
      "2024-03-18 10:27:34.135515: E external/local_xla/xla/stream_executor/cuda/cuda_fft.cc:607] Unable to register cuFFT factory: Attempting to register factory for plugin cuFFT when one has already been registered\n",
      "2024-03-18 10:27:34.136390: E external/local_xla/xla/stream_executor/cuda/cuda_blas.cc:1515] Unable to register cuBLAS factory: Attempting to register factory for plugin cuBLAS when one has already been registered\n",
      "2024-03-18 10:27:34.142149: I tensorflow/core/platform/cpu_feature_guard.cc:182] This TensorFlow binary is optimized to use available CPU instructions in performance-critical operations.\n",
      "To enable the following instructions: AVX2 AVX512F AVX512_VNNI FMA, in other operations, rebuild TensorFlow with the appropriate compiler flags.\n",
      "2024-03-18 10:27:34.763965: W tensorflow/compiler/tf2tensorrt/utils/py_utils.cc:38] TF-TRT Warning: Could not find TensorRT\n"
     ]
    }
   ],
   "source": [
    "import environments_fully_observable \n",
    "import environments_partially_observable\n",
    "import numpy as np\n",
    "from  tqdm import trange\n",
    "import matplotlib.pyplot as plt\n",
    "import random\n",
    "import tensorflow as tf\n",
    "tf.random.set_seed(0)\n",
    "random.seed(0)\n",
    "np.random.seed(0)"
   ]
  },
  {
   "cell_type": "markdown",
   "metadata": {
    "id": "iSKcGuFjz8Ee"
   },
   "source": [
    "## Environment definition"
   ]
  },
  {
   "cell_type": "code",
   "execution_count": 2,
   "metadata": {
    "ExecuteTime": {
     "end_time": "2024-01-05T21:51:24.586654Z",
     "start_time": "2024-01-05T21:51:24.492663Z"
    },
    "colab": {
     "base_uri": "https://localhost:8080/",
     "height": 268
    },
    "collapsed": false,
    "id": "Yyq_RsJbz8Ee",
    "jupyter": {
     "outputs_hidden": false
    },
    "outputId": "7c06d4db-c4e6-4e74-e502-3605d3d68ec3"
   },
   "outputs": [],
   "source": [
    "%matplotlib inline\n",
    "# function to standardize getting an env for the whole notebook\n",
    "def get_env(n=1000):\n",
    "    # n is the number of boards that you want to simulate parallely\n",
    "    # size is the size of each board, also considering the borders\n",
    "    # mask for the partially observable, is the size of the local neighborhood\n",
    "    size = 7\n",
    "    e = environments_fully_observable.OriginalSnakeEnvironment(n, size)\n",
    "    #e = environments_partially_observable.OriginalSnakeEnvironment(n, size, 2)\n",
    "    return e\n",
    "    \n",
    "GAMMA = .99\n",
    "ITERATIONS = 5000"
   ]
  },
  {
   "cell_type": "markdown",
   "metadata": {
    "collapsed": false,
    "id": "jv5R92_0z8Ef",
    "jupyter": {
     "outputs_hidden": false
    }
   },
   "source": [
    "# Model\n",
    "\n",
    "Here is defined the architecture of the Agent considering the fact that Double Deep-Q-Networks algorithm will be implemented"
   ]
  },
  {
   "cell_type": "code",
   "execution_count": 3,
   "metadata": {
    "id": "4VA9Wnllgzkj"
   },
   "outputs": [],
   "source": [
    "class Agent:\n",
    "    def __init__(self, env: environments_fully_observable.BaseEnvironment, discount=GAMMA, step_size=1e-3):\n",
    "        self.discount = discount\n",
    "        self.network = tf.keras.Sequential([\n",
    "            tf.keras.layers.Flatten(),\n",
    "            tf.keras.layers.Dense(128, kernel_initializer = tf.keras.initializers.HeNormal()),\n",
    "            tf.keras.layers.BatchNormalization(),\n",
    "            tf.keras.layers.Activation(tf.nn.relu),\n",
    "            tf.keras.layers.Dense(128, kernel_initializer = tf.keras.initializers.HeNormal()),\n",
    "            tf.keras.layers.BatchNormalization(),\n",
    "            tf.keras.layers.Activation(tf.nn.relu),\n",
    "            tf.keras.layers.Dense(4, activation='linear', kernel_initializer = tf.keras.initializers.HeNormal())\n",
    "        ])       \n",
    "        self.target_network = tf.keras.Sequential([\n",
    "            tf.keras.layers.Flatten(),\n",
    "            tf.keras.layers.Dense(128, kernel_initializer = tf.keras.initializers.HeNormal()),\n",
    "            tf.keras.layers.BatchNormalization(),\n",
    "            tf.keras.layers.Activation(tf.nn.relu),\n",
    "            tf.keras.layers.Dense(128, kernel_initializer = tf.keras.initializers.HeNormal()),\n",
    "            tf.keras.layers.BatchNormalization(),\n",
    "            tf.keras.layers.Activation(tf.nn.relu),\n",
    "            tf.keras.layers.Dense(4, activation='linear', kernel_initializer = tf.keras.initializers.HeNormal())\n",
    "        ])\n",
    "        self.optimizer_net = tf.keras.optimizers.Adam(step_size)"
   ]
  },
  {
   "cell_type": "markdown",
   "metadata": {
    "collapsed": false,
    "id": "JXwE2nfjz8Ef",
    "jupyter": {
     "outputs_hidden": false
    }
   },
   "source": [
    "# Training\n",
    "Training procedure for the Agent. The training is carried out over 50000 iterations."
   ]
  },
  {
   "cell_type": "code",
   "execution_count": 4,
   "metadata": {
    "colab": {
     "base_uri": "https://localhost:8080/",
     "height": 1000
    },
    "collapsed": false,
    "id": "QuCW6J06z8Ef",
    "jupyter": {
     "outputs_hidden": false
    },
    "outputId": "c4ee9b1e-6f90-4fac-dd39-838c9c8a0176"
   },
   "outputs": [
    {
     "name": "stderr",
     "output_type": "stream",
     "text": [
      "2024-03-18 10:27:36.188773: I external/local_xla/xla/stream_executor/cuda/cuda_executor.cc:887] could not open file to read NUMA node: /sys/bus/pci/devices/0000:01:00.0/numa_node\n",
      "Your kernel may have been built without NUMA support.\n",
      "2024-03-18 10:27:36.214334: I external/local_xla/xla/stream_executor/cuda/cuda_executor.cc:887] could not open file to read NUMA node: /sys/bus/pci/devices/0000:01:00.0/numa_node\n",
      "Your kernel may have been built without NUMA support.\n",
      "2024-03-18 10:27:36.214369: I external/local_xla/xla/stream_executor/cuda/cuda_executor.cc:887] could not open file to read NUMA node: /sys/bus/pci/devices/0000:01:00.0/numa_node\n",
      "Your kernel may have been built without NUMA support.\n",
      "2024-03-18 10:27:36.217390: I external/local_xla/xla/stream_executor/cuda/cuda_executor.cc:887] could not open file to read NUMA node: /sys/bus/pci/devices/0000:01:00.0/numa_node\n",
      "Your kernel may have been built without NUMA support.\n",
      "2024-03-18 10:27:36.217420: I external/local_xla/xla/stream_executor/cuda/cuda_executor.cc:887] could not open file to read NUMA node: /sys/bus/pci/devices/0000:01:00.0/numa_node\n",
      "Your kernel may have been built without NUMA support.\n",
      "2024-03-18 10:27:36.217436: I external/local_xla/xla/stream_executor/cuda/cuda_executor.cc:887] could not open file to read NUMA node: /sys/bus/pci/devices/0000:01:00.0/numa_node\n",
      "Your kernel may have been built without NUMA support.\n",
      "2024-03-18 10:27:36.342286: I external/local_xla/xla/stream_executor/cuda/cuda_executor.cc:887] could not open file to read NUMA node: /sys/bus/pci/devices/0000:01:00.0/numa_node\n",
      "Your kernel may have been built without NUMA support.\n",
      "2024-03-18 10:27:36.342330: I external/local_xla/xla/stream_executor/cuda/cuda_executor.cc:887] could not open file to read NUMA node: /sys/bus/pci/devices/0000:01:00.0/numa_node\n",
      "Your kernel may have been built without NUMA support.\n",
      "2024-03-18 10:27:36.342335: I tensorflow/core/common_runtime/gpu/gpu_device.cc:2022] Could not identify NUMA node of platform GPU id 0, defaulting to 0.  Your kernel may not have been built with NUMA support.\n",
      "2024-03-18 10:27:36.342360: I external/local_xla/xla/stream_executor/cuda/cuda_executor.cc:887] could not open file to read NUMA node: /sys/bus/pci/devices/0000:01:00.0/numa_node\n",
      "Your kernel may have been built without NUMA support.\n",
      "2024-03-18 10:27:36.342375: I tensorflow/core/common_runtime/gpu/gpu_device.cc:1929] Created device /job:localhost/replica:0/task:0/device:GPU:0 with 1347 MB memory:  -> device: 0, name: NVIDIA GeForce MX450, pci bus id: 0000:01:00.0, compute capability: 7.5\n",
      "  0%|                                                                                                                       | 0/50000 [00:00<?, ?it/s]/home/michele/.local/lib/python3.10/site-packages/numpy/core/fromnumeric.py:3504: RuntimeWarning: Mean of empty slice.\n",
      "  return _methods._mean(a, axis=axis, dtype=dtype,\n",
      "/home/michele/.local/lib/python3.10/site-packages/numpy/core/_methods.py:129: RuntimeWarning: invalid value encountered in scalar divide\n",
      "  ret = ret.dtype.type(ret / rcount)\n"
     ]
    },
    {
     "name": "stdout",
     "output_type": "stream",
     "text": [
      "0/50000 - nan\n"
     ]
    },
    {
     "name": "stderr",
     "output_type": "stream",
     "text": [
      "2024-03-18 10:27:37.118416: I external/local_xla/xla/service/service.cc:168] XLA service 0x55b809f80940 initialized for platform CUDA (this does not guarantee that XLA will be used). Devices:\n",
      "2024-03-18 10:27:37.118491: I external/local_xla/xla/service/service.cc:176]   StreamExecutor device (0): NVIDIA GeForce MX450, Compute Capability 7.5\n",
      "2024-03-18 10:27:37.122646: I tensorflow/compiler/mlir/tensorflow/utils/dump_mlir_util.cc:269] disabling MLIR crash reproducer, set env var `MLIR_CRASH_REPRODUCER_DIRECTORY` to enable.\n",
      "2024-03-18 10:27:37.136379: I external/local_xla/xla/stream_executor/cuda/cuda_dnn.cc:454] Loaded cuDNN version 8904\n",
      "WARNING: All log messages before absl::InitializeLog() is called are written to STDERR\n",
      "I0000 00:00:1710754057.200767   34488 device_compiler.h:186] Compiled cluster using XLA!  This line is logged at most once for the lifetime of the process.\n"
     ]
    },
    {
     "name": "stdout",
     "output_type": "stream",
     "text": [
      "WARNING:tensorflow:5 out of the last 5 calls to <function _BaseOptimizer._update_step_xla at 0x7f87a80e05e0> triggered tf.function retracing. Tracing is expensive and the excessive number of tracings could be due to (1) creating @tf.function repeatedly in a loop, (2) passing tensors with different shapes, (3) passing Python objects instead of tensors. For (1), please define your @tf.function outside of the loop. For (2), @tf.function has reduce_retracing=True option that can avoid unnecessary retracing. For (3), please refer to https://www.tensorflow.org/guide/function#controlling_retracing and https://www.tensorflow.org/api_docs/python/tf/function for  more details.\n",
      "WARNING:tensorflow:6 out of the last 6 calls to <function _BaseOptimizer._update_step_xla at 0x7f87a80e05e0> triggered tf.function retracing. Tracing is expensive and the excessive number of tracings could be due to (1) creating @tf.function repeatedly in a loop, (2) passing tensors with different shapes, (3) passing Python objects instead of tensors. For (1), please define your @tf.function outside of the loop. For (2), @tf.function has reduce_retracing=True option that can avoid unnecessary retracing. For (3), please refer to https://www.tensorflow.org/guide/function#controlling_retracing and https://www.tensorflow.org/api_docs/python/tf/function for  more details.\n"
     ]
    },
    {
     "name": "stderr",
     "output_type": "stream",
     "text": [
      "  2%|██▏                                                                                                         | 1004/50000 [00:31<24:14, 33.69it/s]"
     ]
    },
    {
     "name": "stdout",
     "output_type": "stream",
     "text": [
      "1000/50000 - -0.011033332906663418\n"
     ]
    },
    {
     "name": "stderr",
     "output_type": "stream",
     "text": [
      "  4%|████▎                                                                                                       | 2003/50000 [01:05<28:23, 28.18it/s]"
     ]
    },
    {
     "name": "stdout",
     "output_type": "stream",
     "text": [
      "2000/50000 - -0.006366667337715626\n"
     ]
    },
    {
     "name": "stderr",
     "output_type": "stream",
     "text": [
      "  6%|██████▍                                                                                                     | 3005/50000 [01:36<23:33, 33.25it/s]"
     ]
    },
    {
     "name": "stdout",
     "output_type": "stream",
     "text": [
      "3000/50000 - 0.006800000090152025\n"
     ]
    },
    {
     "name": "stderr",
     "output_type": "stream",
     "text": [
      "  8%|████████▋                                                                                                   | 4004/50000 [02:06<27:29, 27.88it/s]"
     ]
    },
    {
     "name": "stdout",
     "output_type": "stream",
     "text": [
      "4000/50000 - 0.0075333332642912865\n"
     ]
    },
    {
     "name": "stderr",
     "output_type": "stream",
     "text": [
      " 10%|██████████▊                                                                                                 | 5003/50000 [02:45<28:05, 26.70it/s]"
     ]
    },
    {
     "name": "stdout",
     "output_type": "stream",
     "text": [
      "5000/50000 - 0.011766667477786541\n"
     ]
    },
    {
     "name": "stderr",
     "output_type": "stream",
     "text": [
      " 12%|████████████▉                                                                                               | 6003/50000 [03:20<23:56, 30.63it/s]"
     ]
    },
    {
     "name": "stdout",
     "output_type": "stream",
     "text": [
      "6000/50000 - 0.016966668888926506\n"
     ]
    },
    {
     "name": "stderr",
     "output_type": "stream",
     "text": [
      " 14%|███████████████▏                                                                                            | 7004/50000 [03:52<21:16, 33.69it/s]"
     ]
    },
    {
     "name": "stdout",
     "output_type": "stream",
     "text": [
      "7000/50000 - 0.015366666950285435\n"
     ]
    },
    {
     "name": "stderr",
     "output_type": "stream",
     "text": [
      " 16%|█████████████████▎                                                                                          | 8004/50000 [04:21<20:33, 34.04it/s]"
     ]
    },
    {
     "name": "stdout",
     "output_type": "stream",
     "text": [
      "8000/50000 - 0.03139999881386757\n"
     ]
    },
    {
     "name": "stderr",
     "output_type": "stream",
     "text": [
      " 18%|███████████████████▍                                                                                        | 9007/50000 [04:51<19:29, 35.05it/s]"
     ]
    },
    {
     "name": "stdout",
     "output_type": "stream",
     "text": [
      "9000/50000 - 0.05350000038743019\n"
     ]
    },
    {
     "name": "stderr",
     "output_type": "stream",
     "text": [
      " 20%|█████████████████████▍                                                                                     | 10003/50000 [05:20<26:42, 24.95it/s]"
     ]
    },
    {
     "name": "stdout",
     "output_type": "stream",
     "text": [
      "10000/50000 - 0.03193332999944687\n"
     ]
    },
    {
     "name": "stderr",
     "output_type": "stream",
     "text": [
      " 22%|███████████████████████▌                                                                                   | 11005/50000 [05:52<20:11, 32.18it/s]"
     ]
    },
    {
     "name": "stdout",
     "output_type": "stream",
     "text": [
      "11000/50000 - 0.03636666387319565\n"
     ]
    },
    {
     "name": "stderr",
     "output_type": "stream",
     "text": [
      " 24%|█████████████████████████▋                                                                                 | 12002/50000 [06:23<21:24, 29.58it/s]"
     ]
    },
    {
     "name": "stdout",
     "output_type": "stream",
     "text": [
      "12000/50000 - 0.07616666704416275\n"
     ]
    },
    {
     "name": "stderr",
     "output_type": "stream",
     "text": [
      " 26%|███████████████████████████▊                                                                               | 13007/50000 [06:53<17:39, 34.92it/s]"
     ]
    },
    {
     "name": "stdout",
     "output_type": "stream",
     "text": [
      "13000/50000 - 0.057866666465997696\n"
     ]
    },
    {
     "name": "stderr",
     "output_type": "stream",
     "text": [
      " 28%|█████████████████████████████▉                                                                             | 14003/50000 [07:22<18:12, 32.94it/s]"
     ]
    },
    {
     "name": "stdout",
     "output_type": "stream",
     "text": [
      "14000/50000 - 0.061933331191539764\n"
     ]
    },
    {
     "name": "stderr",
     "output_type": "stream",
     "text": [
      " 30%|████████████████████████████████                                                                           | 15004/50000 [07:52<17:59, 32.42it/s]"
     ]
    },
    {
     "name": "stdout",
     "output_type": "stream",
     "text": [
      "15000/50000 - 0.08339999616146088\n"
     ]
    },
    {
     "name": "stderr",
     "output_type": "stream",
     "text": [
      " 32%|██████████████████████████████████▏                                                                        | 16004/50000 [08:23<18:31, 30.58it/s]"
     ]
    },
    {
     "name": "stdout",
     "output_type": "stream",
     "text": [
      "16000/50000 - 0.05356666073203087\n"
     ]
    },
    {
     "name": "stderr",
     "output_type": "stream",
     "text": [
      " 34%|████████████████████████████████████▍                                                                      | 17004/50000 [08:55<17:22, 31.66it/s]"
     ]
    },
    {
     "name": "stdout",
     "output_type": "stream",
     "text": [
      "17000/50000 - 0.06533332914113998\n"
     ]
    },
    {
     "name": "stderr",
     "output_type": "stream",
     "text": [
      " 36%|██████████████████████████████████████▌                                                                    | 18004/50000 [09:25<15:24, 34.62it/s]"
     ]
    },
    {
     "name": "stdout",
     "output_type": "stream",
     "text": [
      "18000/50000 - 0.10253333300352097\n"
     ]
    },
    {
     "name": "stderr",
     "output_type": "stream",
     "text": [
      " 38%|████████████████████████████████████████▋                                                                  | 19004/50000 [09:54<14:27, 35.75it/s]"
     ]
    },
    {
     "name": "stdout",
     "output_type": "stream",
     "text": [
      "19000/50000 - 0.09086667746305466\n"
     ]
    },
    {
     "name": "stderr",
     "output_type": "stream",
     "text": [
      " 40%|██████████████████████████████████████████▊                                                                | 20004/50000 [10:22<15:15, 32.76it/s]"
     ]
    },
    {
     "name": "stdout",
     "output_type": "stream",
     "text": [
      "20000/50000 - 0.06859999150037766\n"
     ]
    },
    {
     "name": "stderr",
     "output_type": "stream",
     "text": [
      " 42%|████████████████████████████████████████████▉                                                              | 21005/50000 [10:54<13:55, 34.70it/s]"
     ]
    },
    {
     "name": "stdout",
     "output_type": "stream",
     "text": [
      "21000/50000 - 0.06973332911729813\n"
     ]
    },
    {
     "name": "stderr",
     "output_type": "stream",
     "text": [
      " 44%|███████████████████████████████████████████████                                                            | 22005/50000 [11:25<14:06, 33.05it/s]"
     ]
    },
    {
     "name": "stdout",
     "output_type": "stream",
     "text": [
      "22000/50000 - 0.062166668474674225\n"
     ]
    },
    {
     "name": "stderr",
     "output_type": "stream",
     "text": [
      " 46%|█████████████████████████████████████████████████▏                                                         | 23006/50000 [11:55<12:37, 35.62it/s]"
     ]
    },
    {
     "name": "stdout",
     "output_type": "stream",
     "text": [
      "23000/50000 - 0.10326667129993439\n"
     ]
    },
    {
     "name": "stderr",
     "output_type": "stream",
     "text": [
      " 48%|███████████████████████████████████████████████████▎                                                       | 24003/50000 [12:25<12:54, 33.56it/s]"
     ]
    },
    {
     "name": "stdout",
     "output_type": "stream",
     "text": [
      "24000/50000 - 0.08593332767486572\n"
     ]
    },
    {
     "name": "stderr",
     "output_type": "stream",
     "text": [
      " 50%|█████████████████████████████████████████████████████▌                                                     | 25003/50000 [12:54<12:28, 33.39it/s]"
     ]
    },
    {
     "name": "stdout",
     "output_type": "stream",
     "text": [
      "25000/50000 - 0.09800000488758087\n"
     ]
    },
    {
     "name": "stderr",
     "output_type": "stream",
     "text": [
      " 52%|███████████████████████████████████████████████████████▋                                                   | 26006/50000 [13:24<11:31, 34.68it/s]"
     ]
    },
    {
     "name": "stdout",
     "output_type": "stream",
     "text": [
      "26000/50000 - 0.08229999244213104\n"
     ]
    },
    {
     "name": "stderr",
     "output_type": "stream",
     "text": [
      " 54%|█████████████████████████████████████████████████████████▊                                                 | 27006/50000 [13:55<12:18, 31.16it/s]"
     ]
    },
    {
     "name": "stdout",
     "output_type": "stream",
     "text": [
      "27000/50000 - 0.07349999248981476\n"
     ]
    },
    {
     "name": "stderr",
     "output_type": "stream",
     "text": [
      " 56%|███████████████████████████████████████████████████████████▉                                               | 28004/50000 [14:28<11:44, 31.23it/s]"
     ]
    },
    {
     "name": "stdout",
     "output_type": "stream",
     "text": [
      "28000/50000 - 0.1109333261847496\n"
     ]
    },
    {
     "name": "stderr",
     "output_type": "stream",
     "text": [
      " 58%|██████████████████████████████████████████████████████████████                                             | 29004/50000 [14:58<12:19, 28.40it/s]"
     ]
    },
    {
     "name": "stdout",
     "output_type": "stream",
     "text": [
      "29000/50000 - 0.11810000240802765\n"
     ]
    },
    {
     "name": "stderr",
     "output_type": "stream",
     "text": [
      " 60%|████████████████████████████████████████████████████████████████▏                                          | 30005/50000 [15:29<10:42, 31.14it/s]"
     ]
    },
    {
     "name": "stdout",
     "output_type": "stream",
     "text": [
      "30000/50000 - 0.12410001456737518\n"
     ]
    },
    {
     "name": "stderr",
     "output_type": "stream",
     "text": [
      " 62%|██████████████████████████████████████████████████████████████████▎                                        | 31005/50000 [15:58<10:26, 30.31it/s]"
     ]
    },
    {
     "name": "stdout",
     "output_type": "stream",
     "text": [
      "31000/50000 - 0.10850000381469727\n"
     ]
    },
    {
     "name": "stderr",
     "output_type": "stream",
     "text": [
      " 64%|████████████████████████████████████████████████████████████████████▍                                      | 32003/50000 [16:27<09:01, 33.21it/s]"
     ]
    },
    {
     "name": "stdout",
     "output_type": "stream",
     "text": [
      "32000/50000 - 0.10893333703279495\n"
     ]
    },
    {
     "name": "stderr",
     "output_type": "stream",
     "text": [
      " 66%|██████████████████████████████████████████████████████████████████████▋                                    | 33005/50000 [16:56<08:23, 33.75it/s]"
     ]
    },
    {
     "name": "stdout",
     "output_type": "stream",
     "text": [
      "33000/50000 - 0.11223334819078445\n"
     ]
    },
    {
     "name": "stderr",
     "output_type": "stream",
     "text": [
      " 68%|████████████████████████████████████████████████████████████████████████▊                                  | 34004/50000 [17:26<08:18, 32.07it/s]"
     ]
    },
    {
     "name": "stdout",
     "output_type": "stream",
     "text": [
      "34000/50000 - 0.1068333312869072\n"
     ]
    },
    {
     "name": "stderr",
     "output_type": "stream",
     "text": [
      " 70%|██████████████████████████████████████████████████████████████████████████▉                                | 35003/50000 [17:56<08:07, 30.75it/s]"
     ]
    },
    {
     "name": "stdout",
     "output_type": "stream",
     "text": [
      "35000/50000 - 0.11993333697319031\n"
     ]
    },
    {
     "name": "stderr",
     "output_type": "stream",
     "text": [
      " 72%|█████████████████████████████████████████████████████████████████████████████                              | 36004/50000 [18:32<07:48, 29.88it/s]"
     ]
    },
    {
     "name": "stdout",
     "output_type": "stream",
     "text": [
      "36000/50000 - 0.09523333609104156\n"
     ]
    },
    {
     "name": "stderr",
     "output_type": "stream",
     "text": [
      " 74%|███████████████████████████████████████████████████████████████████████████████▏                           | 37004/50000 [19:06<07:05, 30.54it/s]"
     ]
    },
    {
     "name": "stdout",
     "output_type": "stream",
     "text": [
      "37000/50000 - 0.12383333593606949\n"
     ]
    },
    {
     "name": "stderr",
     "output_type": "stream",
     "text": [
      " 76%|█████████████████████████████████████████████████████████████████████████████████▎                         | 38005/50000 [19:37<05:52, 33.99it/s]"
     ]
    },
    {
     "name": "stdout",
     "output_type": "stream",
     "text": [
      "38000/50000 - 0.11183333396911621\n"
     ]
    },
    {
     "name": "stderr",
     "output_type": "stream",
     "text": [
      " 78%|███████████████████████████████████████████████████████████████████████████████████▍                       | 39007/50000 [20:09<05:16, 34.73it/s]"
     ]
    },
    {
     "name": "stdout",
     "output_type": "stream",
     "text": [
      "39000/50000 - 0.11163333803415298\n"
     ]
    },
    {
     "name": "stderr",
     "output_type": "stream",
     "text": [
      " 80%|█████████████████████████████████████████████████████████████████████████████████████▌                     | 40004/50000 [20:40<04:52, 34.23it/s]"
     ]
    },
    {
     "name": "stdout",
     "output_type": "stream",
     "text": [
      "40000/50000 - 0.11969999223947525\n"
     ]
    },
    {
     "name": "stderr",
     "output_type": "stream",
     "text": [
      " 82%|███████████████████████████████████████████████████████████████████████████████████████▋                   | 41004/50000 [21:12<04:40, 32.11it/s]"
     ]
    },
    {
     "name": "stdout",
     "output_type": "stream",
     "text": [
      "41000/50000 - 0.123400017619133\n"
     ]
    },
    {
     "name": "stderr",
     "output_type": "stream",
     "text": [
      " 84%|█████████████████████████████████████████████████████████████████████████████████████████▉                 | 42004/50000 [21:41<03:59, 33.33it/s]"
     ]
    },
    {
     "name": "stdout",
     "output_type": "stream",
     "text": [
      "42000/50000 - 0.10759999603033066\n"
     ]
    },
    {
     "name": "stderr",
     "output_type": "stream",
     "text": [
      " 86%|████████████████████████████████████████████████████████████████████████████████████████████               | 43004/50000 [22:15<03:34, 32.67it/s]"
     ]
    },
    {
     "name": "stdout",
     "output_type": "stream",
     "text": [
      "43000/50000 - 0.1069333404302597\n"
     ]
    },
    {
     "name": "stderr",
     "output_type": "stream",
     "text": [
      " 88%|██████████████████████████████████████████████████████████████████████████████████████████████▏            | 44004/50000 [22:47<02:52, 34.81it/s]"
     ]
    },
    {
     "name": "stdout",
     "output_type": "stream",
     "text": [
      "44000/50000 - 0.11006666719913483\n"
     ]
    },
    {
     "name": "stderr",
     "output_type": "stream",
     "text": [
      " 90%|████████████████████████████████████████████████████████████████████████████████████████████████▎          | 45004/50000 [23:16<02:25, 34.29it/s]"
     ]
    },
    {
     "name": "stdout",
     "output_type": "stream",
     "text": [
      "45000/50000 - 0.10639999806880951\n"
     ]
    },
    {
     "name": "stderr",
     "output_type": "stream",
     "text": [
      " 92%|██████████████████████████████████████████████████████████████████████████████████████████████████▍        | 46003/50000 [23:46<02:07, 31.31it/s]"
     ]
    },
    {
     "name": "stdout",
     "output_type": "stream",
     "text": [
      "46000/50000 - 0.11706666648387909\n"
     ]
    },
    {
     "name": "stderr",
     "output_type": "stream",
     "text": [
      " 94%|████████████████████████████████████████████████████████████████████████████████████████████████████▌      | 47005/50000 [24:20<01:40, 29.68it/s]"
     ]
    },
    {
     "name": "stdout",
     "output_type": "stream",
     "text": [
      "47000/50000 - 0.12573333084583282\n"
     ]
    },
    {
     "name": "stderr",
     "output_type": "stream",
     "text": [
      " 96%|██████████████████████████████████████████████████████████████████████████████████████████████████████▋    | 48004/50000 [24:53<01:06, 30.11it/s]"
     ]
    },
    {
     "name": "stdout",
     "output_type": "stream",
     "text": [
      "48000/50000 - 0.09960000216960907\n"
     ]
    },
    {
     "name": "stderr",
     "output_type": "stream",
     "text": [
      " 98%|████████████████████████████████████████████████████████████████████████████████████████████████████████▊  | 49004/50000 [25:26<00:29, 33.39it/s]"
     ]
    },
    {
     "name": "stdout",
     "output_type": "stream",
     "text": [
      "49000/50000 - 0.12406667321920395\n"
     ]
    },
    {
     "name": "stderr",
     "output_type": "stream",
     "text": [
      "100%|███████████████████████████████████████████████████████████████████████████████████████████████████████████| 50000/50000 [25:58<00:00, 32.08it/s]\n"
     ]
    }
   ],
   "source": [
    "# Define variables for training\n",
    "train_env = get_env(100)\n",
    "train_agent = Agent(train_env.boards)\n",
    "train_total_rewards, train_fruits_eaten, train_wall_hits, train_body_hits = [], [], [], []\n",
    "epsilon = 1.0\n",
    "min_epsilon = 0.1\n",
    "decay_rate = 0.99\n",
    "mse = tf.keras.losses.MeanSquaredError() \n",
    "\n",
    "for iteration in trange(50000):\n",
    "    if iteration % 150 == 0 and epsilon > min_epsilon: \n",
    "        epsilon = epsilon * decay_rate\n",
    "    if iteration % 1000 == 0:\n",
    "        print(f\"{iteration}/{50000} - {np.mean(train_total_rewards[-30:]) or 0}\", end=\"\\n\")\n",
    "    \n",
    "    # Get current state of the board \n",
    "    states = train_env.to_state()\n",
    "    \n",
    "    with tf.GradientTape(persistent=True) as tape:\n",
    "\n",
    "        # Compute the q-values for the current state\n",
    "        q_values = train_agent.network(states)\n",
    "        \n",
    "        # Sample action using an epsilon-greedy policy based on Q\n",
    "        if np.random.rand() < epsilon:\n",
    "            train_actions = tf.random.categorical(q_values, 1)\n",
    "        else: \n",
    "            train_actions = tf.expand_dims(tf.argmax(q_values, axis=1), axis=1)\n",
    "        \n",
    "        # Observe rewards\n",
    "        train_rewards = train_env.move(train_actions)\n",
    "\n",
    "        # Collect some data\n",
    "        train_fruits_eaten.append(tf.math.count_nonzero(tf.reshape(train_rewards, -1) == 0.5).numpy())\n",
    "        train_wall_hits.append(tf.math.count_nonzero(tf.reshape(train_rewards, -1) == -0.1).numpy())\n",
    "        train_body_hits.append(tf.math.count_nonzero(tf.reshape(train_rewards, -1) == -0.2).numpy())\n",
    "        train_total_rewards.append(np.mean(train_rewards))\n",
    "        \n",
    "        # Observe new states\n",
    "        new_states = train_env.to_state()\n",
    "        \n",
    "        # Start learning\n",
    "        one_hot_actions = tf.reshape(tf.one_hot(train_actions, 4), (len(train_env.boards), 4))\n",
    "        action_net = train_agent.network(states)\n",
    "        actions_q_value = tf.reduce_sum(one_hot_actions * action_net, axis=-1, keepdims=True)\n",
    "        q_target = train_agent.target_network(new_states)\n",
    "\n",
    "        # Compute loss of iteration\n",
    "        y_i = train_rewards  + train_agent.discount * tf.expand_dims(tf.reduce_max(q_target, axis=1), axis=1)\n",
    "        loss = mse(y_i, actions_q_value)\n",
    "        \n",
    "    # Update weights of the network\n",
    "    gradient = tape.gradient(loss, train_agent.network.trainable_weights)\n",
    "    train_agent.optimizer_net.apply_gradients(zip(gradient, train_agent.network.trainable_weights))           \n",
    "\n",
    "    # Every 2000 iterations update the weights of the target network\n",
    "    if iteration % 2000 == 0:\n",
    "        train_agent.target_network.set_weights(train_agent.network.get_weights())         "
   ]
  },
  {
   "cell_type": "code",
   "execution_count": 5,
   "metadata": {},
   "outputs": [],
   "source": [
    "train_agent.network.save_weights('weights')"
   ]
  },
  {
   "cell_type": "markdown",
   "metadata": {},
   "source": [
    "# Heuristic/Baseline Policy #"
   ]
  },
  {
   "cell_type": "code",
   "execution_count": 7,
   "metadata": {
    "id": "rfKOMwDwz8Eg"
   },
   "outputs": [],
   "source": [
    "def retrieveBoardPositions(board):\n",
    "    \"\"\"\n",
    "        Function to retrieve the position of the elements in the board.\n",
    "    \"\"\"\n",
    "    head = np.argwhere(board == environments_fully_observable.BaseEnvironment.HEAD)\n",
    "    walls = np.argwhere(board == environments_fully_observable.BaseEnvironment.WALL)\n",
    "    fruit = np.argwhere(board == environments_fully_observable.BaseEnvironment.FRUIT)\n",
    "    body = np.argwhere(board == environments_fully_observable.BaseEnvironment.BODY)\n",
    "    return head, walls, fruit, body"
   ]
  },
  {
   "cell_type": "code",
   "execution_count": 8,
   "metadata": {
    "id": "Oo1dwNWxz8Eg"
   },
   "outputs": [],
   "source": [
    "def computePath(board, boards_size, prev_head):\n",
    "    paths = []\n",
    "    head, walls, fruit, body = retrieveBoardPositions(board)\n",
    "    paths = BFS(head, walls, fruit, body)\n",
    "    if len(paths) > 0:\n",
    "        return paths\n",
    "    else:\n",
    "        paths = nextMove(head, body, walls, prev_head)\n",
    "        return paths"
   ]
  },
  {
   "cell_type": "code",
   "execution_count": 9,
   "metadata": {
    "id": "HQCvRU_yz8Eg"
   },
   "outputs": [],
   "source": [
    "def getDirections(step, heads):\n",
    "    directions = {(1, 0): 'UP', (0, -1): 'LEFT', (-1, 0): 'DOWN', (0, 1): 'RIGHT'}\n",
    "    step = np.array(step)\n",
    "    heads = np.array(heads)\n",
    "    diff = step - heads # Calculate the coordinate differences\n",
    "\n",
    "    # Initialize an empty list to store the directions\n",
    "    directions_list = []\n",
    "\n",
    "    # Check the differences in coordinates to determine the direction of movement\n",
    "    for d in diff:\n",
    "        if d[0] == 1:\n",
    "            directions_list.append('UP')\n",
    "        elif d[0] == -1:\n",
    "            directions_list.append('DOWN')\n",
    "        elif d[1] == -1:\n",
    "            directions_list.append('LEFT')\n",
    "        elif d[1] == 1:\n",
    "            directions_list.append('RIGHT')\n",
    "        else:\n",
    "            directions_list.append('UNKNOWN')\n",
    "\n",
    "    return directions_list"
   ]
  },
  {
   "cell_type": "code",
   "execution_count": 10,
   "metadata": {
    "id": "O2dY13jPz8Eh"
   },
   "outputs": [],
   "source": [
    "def getProbabilities(directions):\n",
    "    prob = []\n",
    "    for direction in directions:\n",
    "        if direction == 'UP':\n",
    "            prob.append([1,0,0,0])\n",
    "        elif direction == 'RIGHT':\n",
    "            prob.append([0,1,0,0])\n",
    "        elif direction == 'DOWN':\n",
    "            prob.append([0,0,1,0])\n",
    "        elif direction == 'LEFT':\n",
    "            prob.append([0,0,0,1])\n",
    "        else:\n",
    "            prob.append([4,4,0,0,0])\n",
    "    return prob"
   ]
  },
  {
   "cell_type": "code",
   "execution_count": 11,
   "metadata": {
    "id": "PPkMOivQz8Eh"
   },
   "outputs": [],
   "source": [
    "def nextMove(head, body, walls, prev_head):\n",
    "    movements = np.array([[1, 0], [0, 1], [-1, 0], [0, -1]])\n",
    "    new_heads = head + movements\n",
    "    prev_head = np.array(prev_head[1:])\n",
    "    indices = []\n",
    "    # Iterate through each row in heads\n",
    "    for head in new_heads:\n",
    "        # Check if the row is present in body\n",
    "        if not np.array_equal(head, prev_head):\n",
    "            if not any(np.array_equal(head, w) for w in walls) and not any(np.array_equal(head, b) for b in body):\n",
    "                return [head]\n",
    "            else:\n",
    "                matching_rows = np.where(np.all(body == head, axis=1))[0]\n",
    "                if matching_rows.size > 0:\n",
    "                    indices.append(matching_rows[0])\n",
    "    if len(indices) > 0:\n",
    "        move = np.random.choice(indices)\n",
    "        path = [body[move]]\n",
    "        return path"
   ]
  },
  {
   "cell_type": "code",
   "execution_count": 12,
   "metadata": {
    "id": "OhkWc2b9z8Eh"
   },
   "outputs": [],
   "source": [
    "def BFS(head, walls, fruit, body):\n",
    "    visited = []\n",
    "    queue = [(head[0], [])]  # Initialize queue with start cell and empty path\n",
    "    movements = np.array([[1, 0], [0, 1], [-1, 0], [0, -1]])\n",
    "    while queue:\n",
    "        current, path = queue.pop(0)\n",
    "        if np.array_equal(current, fruit[0]):\n",
    "            path.append(current)\n",
    "            return path[1:]\n",
    "\n",
    "        if any(np.all(current == v) for v in visited):\n",
    "            continue\n",
    "\n",
    "        visited.append(current)\n",
    "        # Check each adjacent cell\n",
    "        new_heads = current + movements\n",
    "\n",
    "        for neighbor in new_heads:\n",
    "            if not any(np.array_equal(neighbor, v) for v in visited):\n",
    "                if not any(np.array_equal(neighbor, w) for w in walls) and not any(np.array_equal(neighbor, b) for b in body):\n",
    "                    queue.append((neighbor, path + [current]))\n",
    "    return []"
   ]
  },
  {
   "cell_type": "code",
   "execution_count": 13,
   "metadata": {
    "colab": {
     "base_uri": "https://localhost:8080/",
     "height": 372
    },
    "id": "P_N7lP1Bz8Eh",
    "outputId": "dae2aeb1-51d3-4cfd-896a-cb51a48f0f91"
   },
   "outputs": [
    {
     "name": "stderr",
     "output_type": "stream",
     "text": [
      "  0%|                                                                                                             | 3/50000 [00:00<1:34:00,  8.86it/s]"
     ]
    },
    {
     "name": "stdout",
     "output_type": "stream",
     "text": [
      "0/50000 - nan\n"
     ]
    },
    {
     "name": "stderr",
     "output_type": "stream",
     "text": [
      "  2%|██▏                                                                                                         | 1004/50000 [01:05<46:05, 17.72it/s]"
     ]
    },
    {
     "name": "stdout",
     "output_type": "stream",
     "text": [
      "1000/50000 - 0.1122666671872139\n"
     ]
    },
    {
     "name": "stderr",
     "output_type": "stream",
     "text": [
      "  4%|████▎                                                                                                       | 2004/50000 [02:09<48:41, 16.43it/s]"
     ]
    },
    {
     "name": "stdout",
     "output_type": "stream",
     "text": [
      "2000/50000 - 0.10969999432563782\n"
     ]
    },
    {
     "name": "stderr",
     "output_type": "stream",
     "text": [
      "  6%|██████▍                                                                                                     | 3003/50000 [03:15<58:44, 13.33it/s]"
     ]
    },
    {
     "name": "stdout",
     "output_type": "stream",
     "text": [
      "3000/50000 - 0.10676666349172592\n"
     ]
    },
    {
     "name": "stderr",
     "output_type": "stream",
     "text": [
      "  8%|████████▋                                                                                                   | 4004/50000 [04:19<48:28, 15.82it/s]"
     ]
    },
    {
     "name": "stdout",
     "output_type": "stream",
     "text": [
      "4000/50000 - 0.10343333333730698\n"
     ]
    },
    {
     "name": "stderr",
     "output_type": "stream",
     "text": [
      " 10%|██████████▊                                                                                                 | 5003/50000 [05:25<45:56, 16.32it/s]"
     ]
    },
    {
     "name": "stdout",
     "output_type": "stream",
     "text": [
      "5000/50000 - 0.10399999469518661\n"
     ]
    },
    {
     "name": "stderr",
     "output_type": "stream",
     "text": [
      " 12%|████████████▉                                                                                               | 6004/50000 [06:28<45:15, 16.20it/s]"
     ]
    },
    {
     "name": "stdout",
     "output_type": "stream",
     "text": [
      "6000/50000 - 0.10976666957139969\n"
     ]
    },
    {
     "name": "stderr",
     "output_type": "stream",
     "text": [
      " 14%|███████████████▏                                                                                            | 7003/50000 [07:33<48:52, 14.66it/s]"
     ]
    },
    {
     "name": "stdout",
     "output_type": "stream",
     "text": [
      "7000/50000 - 0.1088000014424324\n"
     ]
    },
    {
     "name": "stderr",
     "output_type": "stream",
     "text": [
      " 16%|█████████████████▎                                                                                          | 8002/50000 [08:37<45:15, 15.47it/s]"
     ]
    },
    {
     "name": "stdout",
     "output_type": "stream",
     "text": [
      "8000/50000 - 0.11313333362340927\n"
     ]
    },
    {
     "name": "stderr",
     "output_type": "stream",
     "text": [
      " 18%|███████████████████▍                                                                                        | 9002/50000 [09:42<46:56, 14.56it/s]"
     ]
    },
    {
     "name": "stdout",
     "output_type": "stream",
     "text": [
      "9000/50000 - 0.1049666702747345\n"
     ]
    },
    {
     "name": "stderr",
     "output_type": "stream",
     "text": [
      " 20%|█████████████████████▍                                                                                     | 10003/50000 [10:46<41:20, 16.13it/s]"
     ]
    },
    {
     "name": "stdout",
     "output_type": "stream",
     "text": [
      "10000/50000 - 0.10836665332317352\n"
     ]
    },
    {
     "name": "stderr",
     "output_type": "stream",
     "text": [
      " 22%|███████████████████████▌                                                                                   | 11003/50000 [11:51<43:11, 15.05it/s]"
     ]
    },
    {
     "name": "stdout",
     "output_type": "stream",
     "text": [
      "11000/50000 - 0.10966666787862778\n"
     ]
    },
    {
     "name": "stderr",
     "output_type": "stream",
     "text": [
      " 24%|█████████████████████████▋                                                                                 | 12003/50000 [12:54<46:12, 13.70it/s]"
     ]
    },
    {
     "name": "stdout",
     "output_type": "stream",
     "text": [
      "12000/50000 - 0.10563334077596664\n"
     ]
    },
    {
     "name": "stderr",
     "output_type": "stream",
     "text": [
      " 26%|███████████████████████████▊                                                                               | 13003/50000 [13:59<39:09, 15.75it/s]"
     ]
    },
    {
     "name": "stdout",
     "output_type": "stream",
     "text": [
      "13000/50000 - 0.10856666415929794\n"
     ]
    },
    {
     "name": "stderr",
     "output_type": "stream",
     "text": [
      " 28%|█████████████████████████████▉                                                                             | 14003/50000 [15:04<40:33, 14.79it/s]"
     ]
    },
    {
     "name": "stdout",
     "output_type": "stream",
     "text": [
      "14000/50000 - 0.10626666247844696\n"
     ]
    },
    {
     "name": "stderr",
     "output_type": "stream",
     "text": [
      " 30%|████████████████████████████████                                                                           | 15003/50000 [16:08<36:22, 16.04it/s]"
     ]
    },
    {
     "name": "stdout",
     "output_type": "stream",
     "text": [
      "15000/50000 - 0.10780000686645508\n"
     ]
    },
    {
     "name": "stderr",
     "output_type": "stream",
     "text": [
      " 32%|██████████████████████████████████▏                                                                        | 16003/50000 [17:11<35:01, 16.18it/s]"
     ]
    },
    {
     "name": "stdout",
     "output_type": "stream",
     "text": [
      "16000/50000 - 0.10563333332538605\n"
     ]
    },
    {
     "name": "stderr",
     "output_type": "stream",
     "text": [
      " 34%|████████████████████████████████████▍                                                                      | 17004/50000 [18:15<34:17, 16.04it/s]"
     ]
    },
    {
     "name": "stdout",
     "output_type": "stream",
     "text": [
      "17000/50000 - 0.10686665028333664\n"
     ]
    },
    {
     "name": "stderr",
     "output_type": "stream",
     "text": [
      " 36%|██████████████████████████████████████▌                                                                    | 18003/50000 [19:19<35:30, 15.02it/s]"
     ]
    },
    {
     "name": "stdout",
     "output_type": "stream",
     "text": [
      "18000/50000 - 0.11110000312328339\n"
     ]
    },
    {
     "name": "stderr",
     "output_type": "stream",
     "text": [
      " 38%|████████████████████████████████████████▋                                                                  | 19004/50000 [20:23<31:47, 16.25it/s]"
     ]
    },
    {
     "name": "stdout",
     "output_type": "stream",
     "text": [
      "19000/50000 - 0.10183333605527878\n"
     ]
    },
    {
     "name": "stderr",
     "output_type": "stream",
     "text": [
      " 40%|██████████████████████████████████████████▊                                                                | 20003/50000 [21:26<33:01, 15.14it/s]"
     ]
    },
    {
     "name": "stdout",
     "output_type": "stream",
     "text": [
      "20000/50000 - 0.10873332619667053\n"
     ]
    },
    {
     "name": "stderr",
     "output_type": "stream",
     "text": [
      " 42%|████████████████████████████████████████████▉                                                              | 21003/50000 [22:29<31:40, 15.26it/s]"
     ]
    },
    {
     "name": "stdout",
     "output_type": "stream",
     "text": [
      "21000/50000 - 0.108266681432724\n"
     ]
    },
    {
     "name": "stderr",
     "output_type": "stream",
     "text": [
      " 44%|███████████████████████████████████████████████                                                            | 22004/50000 [23:33<28:41, 16.26it/s]"
     ]
    },
    {
     "name": "stdout",
     "output_type": "stream",
     "text": [
      "22000/50000 - 0.11080001294612885\n"
     ]
    },
    {
     "name": "stderr",
     "output_type": "stream",
     "text": [
      " 46%|█████████████████████████████████████████████████▏                                                         | 23003/50000 [24:36<27:36, 16.30it/s]"
     ]
    },
    {
     "name": "stdout",
     "output_type": "stream",
     "text": [
      "23000/50000 - 0.11310000717639923\n"
     ]
    },
    {
     "name": "stderr",
     "output_type": "stream",
     "text": [
      " 48%|███████████████████████████████████████████████████▎                                                       | 24002/50000 [25:40<28:00, 15.47it/s]"
     ]
    },
    {
     "name": "stdout",
     "output_type": "stream",
     "text": [
      "24000/50000 - 0.10796666890382767\n"
     ]
    },
    {
     "name": "stderr",
     "output_type": "stream",
     "text": [
      " 50%|█████████████████████████████████████████████████████▌                                                     | 25004/50000 [26:46<26:13, 15.89it/s]"
     ]
    },
    {
     "name": "stdout",
     "output_type": "stream",
     "text": [
      "25000/50000 - 0.1111999973654747\n"
     ]
    },
    {
     "name": "stderr",
     "output_type": "stream",
     "text": [
      " 52%|███████████████████████████████████████████████████████▋                                                   | 26004/50000 [27:50<25:20, 15.79it/s]"
     ]
    },
    {
     "name": "stdout",
     "output_type": "stream",
     "text": [
      "26000/50000 - 0.10723332315683365\n"
     ]
    },
    {
     "name": "stderr",
     "output_type": "stream",
     "text": [
      " 54%|█████████████████████████████████████████████████████████▊                                                 | 27003/50000 [28:54<23:17, 16.45it/s]"
     ]
    },
    {
     "name": "stdout",
     "output_type": "stream",
     "text": [
      "27000/50000 - 0.10966667532920837\n"
     ]
    },
    {
     "name": "stderr",
     "output_type": "stream",
     "text": [
      " 56%|███████████████████████████████████████████████████████████▉                                               | 28004/50000 [29:58<24:41, 14.85it/s]"
     ]
    },
    {
     "name": "stdout",
     "output_type": "stream",
     "text": [
      "28000/50000 - 0.109866663813591\n"
     ]
    },
    {
     "name": "stderr",
     "output_type": "stream",
     "text": [
      " 58%|██████████████████████████████████████████████████████████████                                             | 29004/50000 [31:02<21:31, 16.26it/s]"
     ]
    },
    {
     "name": "stdout",
     "output_type": "stream",
     "text": [
      "29000/50000 - 0.11046666651964188\n"
     ]
    },
    {
     "name": "stderr",
     "output_type": "stream",
     "text": [
      " 60%|████████████████████████████████████████████████████████████████▏                                          | 30004/50000 [32:05<20:24, 16.32it/s]"
     ]
    },
    {
     "name": "stdout",
     "output_type": "stream",
     "text": [
      "30000/50000 - 0.10373332351446152\n"
     ]
    },
    {
     "name": "stderr",
     "output_type": "stream",
     "text": [
      " 62%|██████████████████████████████████████████████████████████████████▎                                        | 31003/50000 [33:10<21:56, 14.43it/s]"
     ]
    },
    {
     "name": "stdout",
     "output_type": "stream",
     "text": [
      "31000/50000 - 0.1122666671872139\n"
     ]
    },
    {
     "name": "stderr",
     "output_type": "stream",
     "text": [
      " 64%|████████████████████████████████████████████████████████████████████▍                                      | 32004/50000 [34:15<18:23, 16.31it/s]"
     ]
    },
    {
     "name": "stdout",
     "output_type": "stream",
     "text": [
      "32000/50000 - 0.10683333873748779\n"
     ]
    },
    {
     "name": "stderr",
     "output_type": "stream",
     "text": [
      " 66%|██████████████████████████████████████████████████████████████████████▋                                    | 33003/50000 [35:19<18:04, 15.68it/s]"
     ]
    },
    {
     "name": "stdout",
     "output_type": "stream",
     "text": [
      "33000/50000 - 0.11053332686424255\n"
     ]
    },
    {
     "name": "stderr",
     "output_type": "stream",
     "text": [
      " 68%|████████████████████████████████████████████████████████████████████████▊                                  | 34002/50000 [36:25<19:39, 13.56it/s]"
     ]
    },
    {
     "name": "stdout",
     "output_type": "stream",
     "text": [
      "34000/50000 - 0.10323332995176315\n"
     ]
    },
    {
     "name": "stderr",
     "output_type": "stream",
     "text": [
      " 70%|██████████████████████████████████████████████████████████████████████████▉                                | 35003/50000 [37:31<15:54, 15.72it/s]"
     ]
    },
    {
     "name": "stdout",
     "output_type": "stream",
     "text": [
      "35000/50000 - 0.1103999987244606\n"
     ]
    },
    {
     "name": "stderr",
     "output_type": "stream",
     "text": [
      " 72%|█████████████████████████████████████████████████████████████████████████████                              | 36002/50000 [38:36<15:55, 14.64it/s]"
     ]
    },
    {
     "name": "stdout",
     "output_type": "stream",
     "text": [
      "36000/50000 - 0.11016666889190674\n"
     ]
    },
    {
     "name": "stderr",
     "output_type": "stream",
     "text": [
      " 74%|███████████████████████████████████████████████████████████████████████████████▏                           | 37003/50000 [39:49<13:53, 15.59it/s]"
     ]
    },
    {
     "name": "stdout",
     "output_type": "stream",
     "text": [
      "37000/50000 - 0.10689999163150787\n"
     ]
    },
    {
     "name": "stderr",
     "output_type": "stream",
     "text": [
      " 76%|█████████████████████████████████████████████████████████████████████████████████▎                         | 38003/50000 [40:59<13:29, 14.82it/s]"
     ]
    },
    {
     "name": "stdout",
     "output_type": "stream",
     "text": [
      "38000/50000 - 0.10563335567712784\n"
     ]
    },
    {
     "name": "stderr",
     "output_type": "stream",
     "text": [
      " 78%|███████████████████████████████████████████████████████████████████████████████████▍                       | 39004/50000 [42:01<10:41, 17.15it/s]"
     ]
    },
    {
     "name": "stdout",
     "output_type": "stream",
     "text": [
      "39000/50000 - 0.10369999706745148\n"
     ]
    },
    {
     "name": "stderr",
     "output_type": "stream",
     "text": [
      " 80%|█████████████████████████████████████████████████████████████████████████████████████▌                     | 40003/50000 [43:04<11:24, 14.60it/s]"
     ]
    },
    {
     "name": "stdout",
     "output_type": "stream",
     "text": [
      "40000/50000 - 0.10333333164453506\n"
     ]
    },
    {
     "name": "stderr",
     "output_type": "stream",
     "text": [
      " 82%|███████████████████████████████████████████████████████████████████████████████████████▋                   | 41003/50000 [44:07<09:49, 15.27it/s]"
     ]
    },
    {
     "name": "stdout",
     "output_type": "stream",
     "text": [
      "41000/50000 - 0.10740000754594803\n"
     ]
    },
    {
     "name": "stderr",
     "output_type": "stream",
     "text": [
      " 84%|█████████████████████████████████████████████████████████████████████████████████████████▉                 | 42004/50000 [45:13<08:27, 15.74it/s]"
     ]
    },
    {
     "name": "stdout",
     "output_type": "stream",
     "text": [
      "42000/50000 - 0.10626666247844696\n"
     ]
    },
    {
     "name": "stderr",
     "output_type": "stream",
     "text": [
      " 86%|████████████████████████████████████████████████████████████████████████████████████████████               | 43002/50000 [46:18<07:33, 15.43it/s]"
     ]
    },
    {
     "name": "stdout",
     "output_type": "stream",
     "text": [
      "43000/50000 - 0.10813333094120026\n"
     ]
    },
    {
     "name": "stderr",
     "output_type": "stream",
     "text": [
      " 88%|██████████████████████████████████████████████████████████████████████████████████████████████▏            | 44003/50000 [47:21<06:10, 16.20it/s]"
     ]
    },
    {
     "name": "stdout",
     "output_type": "stream",
     "text": [
      "44000/50000 - 0.11086666584014893\n"
     ]
    },
    {
     "name": "stderr",
     "output_type": "stream",
     "text": [
      " 90%|████████████████████████████████████████████████████████████████████████████████████████████████▎          | 45003/50000 [48:25<05:24, 15.39it/s]"
     ]
    },
    {
     "name": "stdout",
     "output_type": "stream",
     "text": [
      "45000/50000 - 0.10643332451581955\n"
     ]
    },
    {
     "name": "stderr",
     "output_type": "stream",
     "text": [
      " 92%|██████████████████████████████████████████████████████████████████████████████████████████████████▍        | 46004/50000 [49:30<04:10, 15.97it/s]"
     ]
    },
    {
     "name": "stdout",
     "output_type": "stream",
     "text": [
      "46000/50000 - 0.10896667093038559\n"
     ]
    },
    {
     "name": "stderr",
     "output_type": "stream",
     "text": [
      " 94%|████████████████████████████████████████████████████████████████████████████████████████████████████▌      | 47003/50000 [50:32<03:11, 15.69it/s]"
     ]
    },
    {
     "name": "stdout",
     "output_type": "stream",
     "text": [
      "47000/50000 - 0.11503332108259201\n"
     ]
    },
    {
     "name": "stderr",
     "output_type": "stream",
     "text": [
      " 96%|██████████████████████████████████████████████████████████████████████████████████████████████████████▋    | 48003/50000 [51:37<02:17, 14.50it/s]"
     ]
    },
    {
     "name": "stdout",
     "output_type": "stream",
     "text": [
      "48000/50000 - 0.10856667160987854\n"
     ]
    },
    {
     "name": "stderr",
     "output_type": "stream",
     "text": [
      " 98%|████████████████████████████████████████████████████████████████████████████████████████████████████████▊  | 49004/50000 [52:44<01:05, 15.20it/s]"
     ]
    },
    {
     "name": "stdout",
     "output_type": "stream",
     "text": [
      "49000/50000 - 0.11150000989437103\n"
     ]
    },
    {
     "name": "stderr",
     "output_type": "stream",
     "text": [
      "100%|███████████████████████████████████████████████████████████████████████████████████████████████████████████| 50000/50000 [53:52<00:00, 15.47it/s]\n"
     ]
    }
   ],
   "source": [
    "# Define variables for heuristic approach \n",
    "heur_env = get_env(100) # Environment, we just pick one board to go faster\n",
    "heur_reward, heur_fruits, heur_wall_hits, heur_body_hits = [], [], [], []\n",
    "paths = [[] for _ in range(len(heur_env.boards))]\n",
    "prev_head = [[]for _ in range(len(heur_env.boards))]\n",
    "\n",
    "for t in trange(50000):\n",
    "    # For each path to the fruit check if it is empty or not\n",
    "    # This is to handle the case of multiple boards playing in parallel. Different boards may have different lenght of \n",
    "    # thus we need to handle each path separately \n",
    "    for p in range(len(paths)):\n",
    "        if not paths[p]:\n",
    "            # If the path is empty we compute a new one to the fruit for the specific board\n",
    "            paths[p] = computePath(heur_env.boards[p], heur_env.board_size, prev_head[p])\n",
    "    if t % 1000 == 0:\n",
    "        print(f\"{t}/{50000} - {np.mean(heur_reward[-30:]) or 0}\", end=\"\\n\")\n",
    "    \n",
    "    # Get the first step from each path in the array of paths\n",
    "    step = [path.pop(0) for path in paths if path]\n",
    "    \n",
    "    # Get the direction of the step, need step and current cell location\n",
    "    directions = getDirections(step, np.argwhere(heur_env.boards == environments_fully_observable.BaseEnvironment.HEAD)[:,[1,2]])\n",
    "    \n",
    "    # Compute the probability of taking that step\n",
    "    probabs = getProbabilities(directions)\n",
    "    probabilities = tf.convert_to_tensor(probabs)\n",
    "    \n",
    "    # Compute the action array\n",
    "    heur_actions =  tf.expand_dims(tf.argmax(probabilities, axis=1, output_type=tf.int32), axis=1)\n",
    "    \n",
    "    # Save position of the current head. This is needed such that if, when there is the necessity of computing a new path\n",
    "    # the snake does not find one to the fruit, it avoids to eat \"behind hime\" in such a way that we do not lose all the body\n",
    "    prev_head = np.argwhere(heur_env.boards == environments_fully_observable.BaseEnvironment.HEAD)\n",
    "\n",
    "    # Observe reward by performing the actions selected\n",
    "    rew = heur_env.move(heur_actions)\n",
    "\n",
    "    # Collect data (mean_reward and number of fruit eaten)\n",
    "    heur_reward.append(np.mean(rew))\n",
    "    heur_fruits.append(tf.math.count_nonzero(tf.reshape(rew, -1) == 0.5).numpy())\n",
    "    heur_wall_hits.append(tf.math.count_nonzero(tf.reshape(rew, -1) == -0.1).numpy())\n",
    "    heur_body_hits.append(tf.math.count_nonzero(tf.reshape(rew, -1) == -0.2).numpy())"
   ]
  },
  {
   "cell_type": "markdown",
   "metadata": {},
   "source": [
    "# Agent evaluation #"
   ]
  },
  {
   "cell_type": "code",
   "execution_count": 14,
   "metadata": {},
   "outputs": [
    {
     "data": {
      "text/plain": [
       "<tensorflow.python.checkpoint.checkpoint.CheckpointLoadStatus at 0x7f879003f520>"
      ]
     },
     "execution_count": 14,
     "metadata": {},
     "output_type": "execute_result"
    }
   ],
   "source": [
    "evaluation_env = get_env(100)\n",
    "evaluation_agent = Agent(evaluation_env)\n",
    "# Load weights of the trained agent\n",
    "evaluation_agent.network.load_weights('weights')"
   ]
  },
  {
   "cell_type": "code",
   "execution_count": 15,
   "metadata": {},
   "outputs": [
    {
     "name": "stderr",
     "output_type": "stream",
     "text": [
      "100%|██████████████████████████████████████████████████████████████████████████████████████████████████████████| 50000/50000 [06:43<00:00, 124.02it/s]\n"
     ]
    }
   ],
   "source": [
    "eval_fruits_eaten, eval_rewards, eval_body_hits, eval_wall_hits = [], [], [], []\n",
    "\n",
    "for t in trange(50000):\n",
    "    # Interact with environment\n",
    "    state = evaluation_env.to_state()\n",
    "    q_values = evaluation_agent.network(state)\n",
    "    actions = tf.expand_dims(tf.argmax(q_values, axis=1), axis=1)\n",
    "    rewards = evaluation_env.move(actions)\n",
    "\n",
    "    # Collect some data\n",
    "    eval_fruits_eaten.append(tf.math.count_nonzero(tf.reshape(rewards, -1) == 0.5).numpy())\n",
    "    eval_wall_hits.append(tf.math.count_nonzero(tf.reshape(rewards, -1) == -0.1).numpy())\n",
    "    eval_body_hits.append(tf.math.count_nonzero(tf.reshape(rewards, -1) == -0.2).numpy())\n",
    "    eval_rewards.append(np.mean(rewards))\n"
   ]
  },
  {
   "cell_type": "markdown",
   "metadata": {},
   "source": [
    "# Plots #"
   ]
  },
  {
   "cell_type": "markdown",
   "metadata": {},
   "source": [
    "## Training ##"
   ]
  },
  {
   "cell_type": "code",
   "execution_count": 16,
   "metadata": {},
   "outputs": [
    {
     "data": {
      "image/png": "[encoded data removed]",
      "text/plain": [
       "<Figure size 1080x288 with 4 Axes>"
      ]
     },
     "metadata": {
      "needs_background": "light"
     },
     "output_type": "display_data"
    }
   ],
   "source": [
    "# Training statistics\n",
    "train_fruits = train_fruits_eaten\n",
    "train_reward = train_total_rewards\n",
    "train_wh = train_wall_hits\n",
    "train_bh = train_body_hits\n",
    "\n",
    "# Heuristic statistics\n",
    "heur_fr = heur_fruits\n",
    "heur_wh = heur_wall_hits\n",
    "heur_bh = heur_body_hits\n",
    "heuristic_reward = heur_reward\n",
    "\n",
    "fig, axs = plt.subplots(1, 4, figsize=(15, 4))\n",
    "\n",
    "train_fruits = np.sum(np.reshape(train_fruits, (50, 1000)), axis = 1)/100\n",
    "axs[0].plot(train_fruits, label='Agent')\n",
    "axs[0].hlines(np.mean(np.sum(np.reshape(heur_fr, (50, 1000)), axis=1)/100), 0, 50, label='Heuristic', color='red', linestyle='dotted')\n",
    "axs[0].set(ylabel='Fruits')\n",
    "axs[0].set(xlabel=\"Epochs\")\n",
    "axs[0].legend(loc='lower right')\n",
    "\n",
    "train_wh = np.sum(np.reshape(train_wh, (50, 1000)), axis = 1)/100\n",
    "axs[3].plot(train_wh, label='Agent')\n",
    "axs[3].hlines(np.mean(np.sum(np.reshape(heur_wall_hits, (50, 1000)), axis=1)/100), 0, 50, colors='red', label='Heuristic', linestyles='dotted')\n",
    "axs[3].set(ylabel='Wall hits')\n",
    "axs[3].set(xlabel=\"Epochs\")\n",
    "axs[3].legend(loc='upper right')\n",
    "\n",
    "train_bh = np.sum(np.reshape(train_bh, (50, 1000)), axis = 1)/100\n",
    "axs[2].plot(train_bh, label='Agent')\n",
    "axs[2].hlines(np.mean(np.sum(np.reshape(heur_body_hits, (50, 1000)), axis=1)/100), 0, 50, colors='red', label='Heuristic', linestyles='dotted')\n",
    "axs[2].set(ylabel='Body hits')\n",
    "axs[2].set(xlabel=\"Epochs\")\n",
    "axs[2].legend(loc='upper right')\n",
    "\n",
    "train_reward = np.mean(np.reshape(train_reward, (50, 1000)), axis=1)\n",
    "axs[1].plot(train_reward, label='Agent', color='green')\n",
    "axs[1].hlines(np.mean(heuristic_reward), 0, 50, colors='red', label='Heuristic', linestyles='dotted')\n",
    "axs[1].set(ylabel='Reward')\n",
    "axs[1].set(xlabel=\"Epochs\")\n",
    "axs[1].legend(loc='lower right')\n",
    "\n",
    "fig.tight_layout(pad=3.0)"
   ]
  },
  {
   "cell_type": "markdown",
   "metadata": {},
   "source": [
    "## Evaluation ##"
   ]
  },
  {
   "cell_type": "code",
   "execution_count": 17,
   "metadata": {},
   "outputs": [
    {
     "data": {
      "image/png": "[encoded data removed]",
      "text/plain": [
       "<Figure size 1080x288 with 4 Axes>"
      ]
     },
     "metadata": {
      "needs_background": "light"
     },
     "output_type": "display_data"
    }
   ],
   "source": [
    "# Evaluation statistics\n",
    "eval_fruits = eval_fruits_eaten\n",
    "eval_reward = eval_rewards\n",
    "eval_wh = eval_wall_hits\n",
    "eval_bh = eval_body_hits\n",
    "\n",
    "# Heuristic statistics\n",
    "heur_fe = heur_fruits\n",
    "heur_wh = heur_wall_hits\n",
    "heur_bh = heur_body_hits\n",
    "heuristic_reward = heur_reward\n",
    "\n",
    "fig, axs = plt.subplots(1, 4, figsize=(15, 4))\n",
    "\n",
    "eval_fruits = np.sum(np.reshape(eval_fruits, (50, 1000)), axis = 1)/100\n",
    "axs[0].plot(eval_fruits, label='Agent')\n",
    "axs[0].hlines(np.mean(np.sum(np.reshape(heur_fruits, (50, 1000)), axis=1)/100), 0, 50, label='Heuristic', color='red', linestyle='dotted')\n",
    "axs[0].set(ylabel='Fruits')\n",
    "axs[0].set(xlabel=\"Epochs\")\n",
    "axs[0].legend(loc='lower right')\n",
    "\n",
    "eval_wh = np.sum(np.reshape(eval_wh, (50, 1000)), axis = 1)/100\n",
    "axs[3].plot(eval_wh, label='Agent')\n",
    "axs[3].hlines(np.mean(np.sum(np.reshape(heur_wall_hits, (50, 1000)), axis=1)/100), 0, 50, colors='red', label='Heuristic', linestyles='dotted')\n",
    "axs[3].set(ylabel='Wall hits')\n",
    "axs[3].set(xlabel=\"Epochs\")\n",
    "axs[3].legend(loc='lower right')\n",
    "\n",
    "eval_bh = np.sum(np.reshape(eval_bh, (50, 1000)), axis = 1)/100\n",
    "axs[2].plot(eval_bh, label='Agent')\n",
    "axs[2].hlines(np.mean(np.sum(np.reshape(heur_body_hits, (50, 1000)), axis=1)/100), 0, 50, colors='red', label='Heuristic', linestyles='dotted')\n",
    "axs[2].set(ylabel='Body hits')\n",
    "axs[2].set(xlabel=\"Epochs\")\n",
    "axs[2].legend(loc='lower right')\n",
    "\n",
    "eval_reward = np.mean(np.reshape(eval_reward, (50, 1000)), axis=1)\n",
    "axs[1].plot(eval_reward, label='Agent', color='green')\n",
    "axs[1].hlines(np.mean(heuristic_reward), 0, 50, colors='red', label='Heuristic', linestyles='dotted')\n",
    "axs[1].set(ylabel='Reward')\n",
    "axs[1].set(xlabel=\"Epochs\")\n",
    "axs[1].legend(loc='lower right')\n",
    "\n",
    "fig.tight_layout(pad=3.0)"
   ]
  }
 ],
 "metadata": {
  "colab": {
   "provenance": []
  },
  "kernelspec": {
   "display_name": "Python 3 (ipykernel)",
   "language": "python",
   "name": "python3"
  },
  "language_info": {
   "codemirror_mode": {
    "name": "ipython",
    "version": 3
   },
   "file_extension": ".py",
   "mimetype": "text/x-python",
   "name": "python",
   "nbconvert_exporter": "python",
   "pygments_lexer": "ipython3",
   "version": "3.10.12"
  }
 },
 "nbformat": 4,
 "nbformat_minor": 4
}
