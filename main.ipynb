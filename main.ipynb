{
 "cells": [
  {
   "cell_type": "markdown",
   "metadata": {
    "id": "dZB_aTdCz8Ed"
   },
   "source": [
    "# Snake"
   ]
  },
  {
   "cell_type": "code",
   "execution_count": 1,
   "metadata": {
    "ExecuteTime": {
     "end_time": "2024-01-05T21:49:54.740569Z",
     "start_time": "2024-01-05T21:49:54.724713Z"
    },
    "id": "zBpHeLCZz8Ee"
   },
   "outputs": [
    {
     "name": "stderr",
     "output_type": "stream",
     "text": [
      "2024-03-16 13:53:29.259074: I tensorflow/core/util/port.cc:113] oneDNN custom operations are on. You may see slightly different numerical results due to floating-point round-off errors from different computation orders. To turn them off, set the environment variable `TF_ENABLE_ONEDNN_OPTS=0`.\n",
      "2024-03-16 13:53:29.294029: E external/local_xla/xla/stream_executor/cuda/cuda_dnn.cc:9261] Unable to register cuDNN factory: Attempting to register factory for plugin cuDNN when one has already been registered\n",
      "2024-03-16 13:53:29.294064: E external/local_xla/xla/stream_executor/cuda/cuda_fft.cc:607] Unable to register cuFFT factory: Attempting to register factory for plugin cuFFT when one has already been registered\n",
      "2024-03-16 13:53:29.294977: E external/local_xla/xla/stream_executor/cuda/cuda_blas.cc:1515] Unable to register cuBLAS factory: Attempting to register factory for plugin cuBLAS when one has already been registered\n",
      "2024-03-16 13:53:29.301376: I tensorflow/core/platform/cpu_feature_guard.cc:182] This TensorFlow binary is optimized to use available CPU instructions in performance-critical operations.\n",
      "To enable the following instructions: AVX2 AVX512F AVX512_VNNI FMA, in other operations, rebuild TensorFlow with the appropriate compiler flags.\n",
      "2024-03-16 13:53:30.088680: W tensorflow/compiler/tf2tensorrt/utils/py_utils.cc:38] TF-TRT Warning: Could not find TensorRT\n"
     ]
    }
   ],
   "source": [
    "import numpy as np\n",
    "from  tqdm import trange\n",
    "import matplotlib.pyplot as plt\n",
    "import random\n",
    "import tensorflow as tf\n",
    "\n",
    "tf.random.set_seed(0)\n",
    "random.seed(0)\n",
    "np.random.seed(0)"
   ]
  },
  {
   "cell_type": "code",
   "execution_count": 2,
   "metadata": {
    "id": "98SjNteLOFiT"
   },
   "outputs": [],
   "source": [
    "import sys\n",
    "sys.path.append('/content/Snake/')\n",
    "import environments_fully_observable\n",
    "import environments_partially_observable\n",
    "import os\n",
    "import io\n",
    "import imageio\n",
    "from IPython.display import display, Image"
   ]
  },
  {
   "cell_type": "markdown",
   "metadata": {
    "id": "iSKcGuFjz8Ee"
   },
   "source": [
    "## Environment definition"
   ]
  },
  {
   "cell_type": "code",
   "execution_count": 3,
   "metadata": {
    "ExecuteTime": {
     "end_time": "2024-01-05T21:51:24.586654Z",
     "start_time": "2024-01-05T21:51:24.492663Z"
    },
    "colab": {
     "base_uri": "https://localhost:8080/",
     "height": 268
    },
    "collapsed": false,
    "id": "Yyq_RsJbz8Ee",
    "jupyter": {
     "outputs_hidden": false
    },
    "outputId": "7c06d4db-c4e6-4e74-e502-3605d3d68ec3"
   },
   "outputs": [
    {
     "data": {
      "image/png": "[encoded data removed]",
      "text/plain": [
       "<Figure size 720x216 with 5 Axes>"
      ]
     },
     "metadata": {
      "needs_background": "light"
     },
     "output_type": "display_data"
    }
   ],
   "source": [
    "%matplotlib inline\n",
    "# function to standardize getting an env for the whole notebook\n",
    "def get_env(n=1000):\n",
    "    # n is the number of boards that you want to simulate parallely\n",
    "    # size is the size of each board, also considering the borders\n",
    "    # mask for the partially observable, is the size of the local neighborhood\n",
    "    size = 7\n",
    "    e = environments_fully_observable.OriginalSnakeEnvironment(n, size)\n",
    "    #e = environments_partially_observable.OriginalSnakeEnvironment(n, size, 2)\n",
    "    return e\n",
    "env_ = get_env(100)\n",
    "GAMMA = .99\n",
    "ITERATIONS = 5000\n",
    "\n",
    "fig,axs=plt.subplots(1,min(len(env_.boards), 5), figsize=(10,3))\n",
    "for ax, board in zip(axs, env_.boards):\n",
    "    ax.get_yaxis().set_visible(False)\n",
    "    ax.get_xaxis().set_visible(False)\n",
    "    ax.imshow(board, origin=\"lower\")\n"
   ]
  },
  {
   "cell_type": "code",
   "execution_count": 4,
   "metadata": {
    "id": "7hzVpcrWz8Eg"
   },
   "outputs": [],
   "source": [
    "def fig_to_image(fig):\n",
    "    # Convert the figure to a PNG image in memory\n",
    "    buf = io.BytesIO()\n",
    "    fig.savefig(buf, format='png')\n",
    "    buf.seek(0)\n",
    "    # Read the PNG image from memory and return it\n",
    "    return imageio.v2.imread(buf)\n"
   ]
  },
  {
   "cell_type": "markdown",
   "metadata": {
    "collapsed": false,
    "id": "jv5R92_0z8Ef",
    "jupyter": {
     "outputs_hidden": false
    }
   },
   "source": [
    "## Model"
   ]
  },
  {
   "cell_type": "code",
   "execution_count": 5,
   "metadata": {
    "id": "4VA9Wnllgzkj"
   },
   "outputs": [],
   "source": [
    "class Agent:\n",
    "    def __init__(self, env: environments_fully_observable.BaseEnvironment, discount=GAMMA, step_size=1e-3):\n",
    "        self.discount = discount\n",
    "        self.network = tf.keras.Sequential([\n",
    "            tf.keras.layers.Flatten(),\n",
    "            tf.keras.layers.Dense(128, kernel_initializer = tf.keras.initializers.HeNormal()),\n",
    "            tf.keras.layers.BatchNormalization(),\n",
    "            tf.keras.layers.Activation(tf.nn.relu),\n",
    "            tf.keras.layers.Dense(128, kernel_initializer = tf.keras.initializers.HeNormal()),\n",
    "            tf.keras.layers.BatchNormalization(),\n",
    "            tf.keras.layers.Activation(tf.nn.relu),\n",
    "            tf.keras.layers.Dense(4, activation='linear', kernel_initializer = tf.keras.initializers.HeNormal())\n",
    "        ])       \n",
    "        self.target_network = tf.keras.Sequential([\n",
    "            tf.keras.layers.Flatten(),\n",
    "            tf.keras.layers.Dense(128, kernel_initializer = tf.keras.initializers.HeNormal()),\n",
    "            tf.keras.layers.BatchNormalization(),\n",
    "            tf.keras.layers.Activation(tf.nn.relu),\n",
    "            tf.keras.layers.Dense(128, kernel_initializer = tf.keras.initializers.HeNormal()),\n",
    "            tf.keras.layers.BatchNormalization(),\n",
    "            tf.keras.layers.Activation(tf.nn.relu),\n",
    "            tf.keras.layers.Dense(4, activation='linear', kernel_initializer = tf.keras.initializers.HeNormal())\n",
    "        ])\n",
    "        self.optimizer_net = tf.keras.optimizers.Adam(step_size)"
   ]
  },
  {
   "cell_type": "markdown",
   "metadata": {
    "collapsed": false,
    "id": "JXwE2nfjz8Ef",
    "jupyter": {
     "outputs_hidden": false
    }
   },
   "source": [
    "## Training"
   ]
  },
  {
   "cell_type": "code",
   "execution_count": 6,
   "metadata": {
    "colab": {
     "base_uri": "https://localhost:8080/",
     "height": 1000
    },
    "collapsed": false,
    "id": "QuCW6J06z8Ef",
    "jupyter": {
     "outputs_hidden": false
    },
    "outputId": "c4ee9b1e-6f90-4fac-dd39-838c9c8a0176"
   },
   "outputs": [
    {
     "name": "stderr",
     "output_type": "stream",
     "text": [
      "2024-03-16 13:53:31.785200: I external/local_xla/xla/stream_executor/cuda/cuda_executor.cc:887] could not open file to read NUMA node: /sys/bus/pci/devices/0000:01:00.0/numa_node\n",
      "Your kernel may have been built without NUMA support.\n",
      "2024-03-16 13:53:31.832251: I external/local_xla/xla/stream_executor/cuda/cuda_executor.cc:887] could not open file to read NUMA node: /sys/bus/pci/devices/0000:01:00.0/numa_node\n",
      "Your kernel may have been built without NUMA support.\n",
      "2024-03-16 13:53:31.832312: I external/local_xla/xla/stream_executor/cuda/cuda_executor.cc:887] could not open file to read NUMA node: /sys/bus/pci/devices/0000:01:00.0/numa_node\n",
      "Your kernel may have been built without NUMA support.\n",
      "2024-03-16 13:53:31.835802: I external/local_xla/xla/stream_executor/cuda/cuda_executor.cc:887] could not open file to read NUMA node: /sys/bus/pci/devices/0000:01:00.0/numa_node\n",
      "Your kernel may have been built without NUMA support.\n",
      "2024-03-16 13:53:31.835866: I external/local_xla/xla/stream_executor/cuda/cuda_executor.cc:887] could not open file to read NUMA node: /sys/bus/pci/devices/0000:01:00.0/numa_node\n",
      "Your kernel may have been built without NUMA support.\n",
      "2024-03-16 13:53:31.835897: I external/local_xla/xla/stream_executor/cuda/cuda_executor.cc:887] could not open file to read NUMA node: /sys/bus/pci/devices/0000:01:00.0/numa_node\n",
      "Your kernel may have been built without NUMA support.\n",
      "2024-03-16 13:53:32.059239: I external/local_xla/xla/stream_executor/cuda/cuda_executor.cc:887] could not open file to read NUMA node: /sys/bus/pci/devices/0000:01:00.0/numa_node\n",
      "Your kernel may have been built without NUMA support.\n",
      "2024-03-16 13:53:32.059314: I external/local_xla/xla/stream_executor/cuda/cuda_executor.cc:887] could not open file to read NUMA node: /sys/bus/pci/devices/0000:01:00.0/numa_node\n",
      "Your kernel may have been built without NUMA support.\n",
      "2024-03-16 13:53:32.059323: I tensorflow/core/common_runtime/gpu/gpu_device.cc:2022] Could not identify NUMA node of platform GPU id 0, defaulting to 0.  Your kernel may not have been built with NUMA support.\n",
      "2024-03-16 13:53:32.059353: I external/local_xla/xla/stream_executor/cuda/cuda_executor.cc:887] could not open file to read NUMA node: /sys/bus/pci/devices/0000:01:00.0/numa_node\n",
      "Your kernel may have been built without NUMA support.\n",
      "2024-03-16 13:53:32.059379: I tensorflow/core/common_runtime/gpu/gpu_device.cc:1929] Created device /job:localhost/replica:0/task:0/device:GPU:0 with 1347 MB memory:  -> device: 0, name: NVIDIA GeForce MX450, pci bus id: 0000:01:00.0, compute capability: 7.5\n",
      "  0%|                                                                                                                       | 0/50000 [00:00<?, ?it/s]/home/michele/.local/lib/python3.10/site-packages/numpy/core/fromnumeric.py:3504: RuntimeWarning: Mean of empty slice.\n",
      "  return _methods._mean(a, axis=axis, dtype=dtype,\n",
      "/home/michele/.local/lib/python3.10/site-packages/numpy/core/_methods.py:129: RuntimeWarning: invalid value encountered in scalar divide\n",
      "  ret = ret.dtype.type(ret / rcount)\n"
     ]
    },
    {
     "name": "stdout",
     "output_type": "stream",
     "text": [
      "0/50000 - nan\n"
     ]
    },
    {
     "name": "stderr",
     "output_type": "stream",
     "text": [
      "2024-03-16 13:53:33.410269: I external/local_xla/xla/service/service.cc:168] XLA service 0x55bcb25feb20 initialized for platform CUDA (this does not guarantee that XLA will be used). Devices:\n",
      "2024-03-16 13:53:33.410329: I external/local_xla/xla/service/service.cc:176]   StreamExecutor device (0): NVIDIA GeForce MX450, Compute Capability 7.5\n",
      "2024-03-16 13:53:33.417719: I tensorflow/compiler/mlir/tensorflow/utils/dump_mlir_util.cc:269] disabling MLIR crash reproducer, set env var `MLIR_CRASH_REPRODUCER_DIRECTORY` to enable.\n",
      "2024-03-16 13:53:33.448100: I external/local_xla/xla/stream_executor/cuda/cuda_dnn.cc:454] Loaded cuDNN version 8904\n",
      "WARNING: All log messages before absl::InitializeLog() is called are written to STDERR\n",
      "I0000 00:00:1710593613.626042  153207 device_compiler.h:186] Compiled cluster using XLA!  This line is logged at most once for the lifetime of the process.\n"
     ]
    },
    {
     "name": "stdout",
     "output_type": "stream",
     "text": [
      "WARNING:tensorflow:5 out of the last 5 calls to <function _BaseOptimizer._update_step_xla at 0x7f56bd300700> triggered tf.function retracing. Tracing is expensive and the excessive number of tracings could be due to (1) creating @tf.function repeatedly in a loop, (2) passing tensors with different shapes, (3) passing Python objects instead of tensors. For (1), please define your @tf.function outside of the loop. For (2), @tf.function has reduce_retracing=True option that can avoid unnecessary retracing. For (3), please refer to https://www.tensorflow.org/guide/function#controlling_retracing and https://www.tensorflow.org/api_docs/python/tf/function for  more details.\n",
      "WARNING:tensorflow:6 out of the last 6 calls to <function _BaseOptimizer._update_step_xla at 0x7f56bd300700> triggered tf.function retracing. Tracing is expensive and the excessive number of tracings could be due to (1) creating @tf.function repeatedly in a loop, (2) passing tensors with different shapes, (3) passing Python objects instead of tensors. For (1), please define your @tf.function outside of the loop. For (2), @tf.function has reduce_retracing=True option that can avoid unnecessary retracing. For (3), please refer to https://www.tensorflow.org/guide/function#controlling_retracing and https://www.tensorflow.org/api_docs/python/tf/function for  more details.\n"
     ]
    },
    {
     "name": "stderr",
     "output_type": "stream",
     "text": [
      "  2%|██▏                                                                                                         | 1003/50000 [00:57<46:36, 17.52it/s]"
     ]
    },
    {
     "name": "stdout",
     "output_type": "stream",
     "text": [
      "1000/50000 - -0.011866665445268154\n"
     ]
    },
    {
     "name": "stderr",
     "output_type": "stream",
     "text": [
      "  4%|████▎                                                                                                       | 2003/50000 [01:53<45:25, 17.61it/s]"
     ]
    },
    {
     "name": "stdout",
     "output_type": "stream",
     "text": [
      "2000/50000 - -0.010466666892170906\n"
     ]
    },
    {
     "name": "stderr",
     "output_type": "stream",
     "text": [
      "  6%|██████▍                                                                                                     | 3002/50000 [02:47<41:16, 18.98it/s]"
     ]
    },
    {
     "name": "stdout",
     "output_type": "stream",
     "text": [
      "3000/50000 - -0.004866666626185179\n"
     ]
    },
    {
     "name": "stderr",
     "output_type": "stream",
     "text": [
      "  8%|████████▋                                                                                                   | 4001/50000 [03:39<38:26, 19.94it/s]"
     ]
    },
    {
     "name": "stdout",
     "output_type": "stream",
     "text": [
      "4000/50000 - -6.666649278486148e-05\n"
     ]
    },
    {
     "name": "stderr",
     "output_type": "stream",
     "text": [
      " 10%|██████████▊                                                                                                 | 5003/50000 [04:32<43:33, 17.22it/s]"
     ]
    },
    {
     "name": "stdout",
     "output_type": "stream",
     "text": [
      "5000/50000 - 0.00956666562706232\n"
     ]
    },
    {
     "name": "stderr",
     "output_type": "stream",
     "text": [
      " 12%|████████████▉                                                                                               | 6002/50000 [05:27<41:38, 17.61it/s]"
     ]
    },
    {
     "name": "stdout",
     "output_type": "stream",
     "text": [
      "6000/50000 - 0.009499999694526196\n"
     ]
    },
    {
     "name": "stderr",
     "output_type": "stream",
     "text": [
      " 14%|███████████████                                                                                             | 7001/50000 [06:22<33:35, 21.34it/s]"
     ]
    },
    {
     "name": "stdout",
     "output_type": "stream",
     "text": [
      "7000/50000 - 0.020233333110809326\n"
     ]
    },
    {
     "name": "stderr",
     "output_type": "stream",
     "text": [
      " 16%|█████████████████▎                                                                                          | 8002/50000 [07:19<45:03, 15.54it/s]"
     ]
    },
    {
     "name": "stdout",
     "output_type": "stream",
     "text": [
      "8000/50000 - 0.03073333017528057\n"
     ]
    },
    {
     "name": "stderr",
     "output_type": "stream",
     "text": [
      " 18%|███████████████████▍                                                                                        | 9003/50000 [08:15<42:54, 15.93it/s]"
     ]
    },
    {
     "name": "stdout",
     "output_type": "stream",
     "text": [
      "9000/50000 - 0.03399999812245369\n"
     ]
    },
    {
     "name": "stderr",
     "output_type": "stream",
     "text": [
      " 20%|█████████████████████▍                                                                                     | 10002/50000 [09:13<43:16, 15.41it/s]"
     ]
    },
    {
     "name": "stdout",
     "output_type": "stream",
     "text": [
      "10000/50000 - 0.044700004160404205\n"
     ]
    },
    {
     "name": "stderr",
     "output_type": "stream",
     "text": [
      " 22%|███████████████████████▌                                                                                   | 11003/50000 [10:12<36:23, 17.86it/s]"
     ]
    },
    {
     "name": "stdout",
     "output_type": "stream",
     "text": [
      "11000/50000 - 0.04803333058953285\n"
     ]
    },
    {
     "name": "stderr",
     "output_type": "stream",
     "text": [
      " 24%|█████████████████████████▋                                                                                 | 12002/50000 [11:10<37:31, 16.88it/s]"
     ]
    },
    {
     "name": "stdout",
     "output_type": "stream",
     "text": [
      "12000/50000 - 0.03293333202600479\n"
     ]
    },
    {
     "name": "stderr",
     "output_type": "stream",
     "text": [
      " 26%|███████████████████████████▊                                                                               | 13002/50000 [12:07<38:22, 16.07it/s]"
     ]
    },
    {
     "name": "stdout",
     "output_type": "stream",
     "text": [
      "13000/50000 - 0.05263333395123482\n"
     ]
    },
    {
     "name": "stderr",
     "output_type": "stream",
     "text": [
      " 28%|█████████████████████████████▉                                                                             | 14002/50000 [13:04<37:05, 16.17it/s]"
     ]
    },
    {
     "name": "stdout",
     "output_type": "stream",
     "text": [
      "14000/50000 - 0.08416666835546494\n"
     ]
    },
    {
     "name": "stderr",
     "output_type": "stream",
     "text": [
      " 30%|████████████████████████████████                                                                           | 15004/50000 [14:02<33:18, 17.51it/s]"
     ]
    },
    {
     "name": "stdout",
     "output_type": "stream",
     "text": [
      "15000/50000 - 0.09220001101493835\n"
     ]
    },
    {
     "name": "stderr",
     "output_type": "stream",
     "text": [
      " 32%|██████████████████████████████████▏                                                                        | 16002/50000 [14:59<35:50, 15.81it/s]"
     ]
    },
    {
     "name": "stdout",
     "output_type": "stream",
     "text": [
      "16000/50000 - 0.07463333010673523\n"
     ]
    },
    {
     "name": "stderr",
     "output_type": "stream",
     "text": [
      " 34%|████████████████████████████████████▍                                                                      | 17002/50000 [16:02<30:58, 17.76it/s]"
     ]
    },
    {
     "name": "stdout",
     "output_type": "stream",
     "text": [
      "17000/50000 - 0.08579999953508377\n"
     ]
    },
    {
     "name": "stderr",
     "output_type": "stream",
     "text": [
      " 36%|██████████████████████████████████████▌                                                                    | 18003/50000 [17:03<35:13, 15.14it/s]"
     ]
    },
    {
     "name": "stdout",
     "output_type": "stream",
     "text": [
      "18000/50000 - 0.09310000389814377\n"
     ]
    },
    {
     "name": "stderr",
     "output_type": "stream",
     "text": [
      " 38%|████████████████████████████████████████▋                                                                  | 19002/50000 [18:04<29:53, 17.29it/s]"
     ]
    },
    {
     "name": "stdout",
     "output_type": "stream",
     "text": [
      "19000/50000 - 0.08896667510271072\n"
     ]
    },
    {
     "name": "stderr",
     "output_type": "stream",
     "text": [
      " 40%|██████████████████████████████████████████▊                                                                | 20002/50000 [19:02<28:56, 17.28it/s]"
     ]
    },
    {
     "name": "stdout",
     "output_type": "stream",
     "text": [
      "20000/50000 - 0.07570000737905502\n"
     ]
    },
    {
     "name": "stderr",
     "output_type": "stream",
     "text": [
      " 42%|████████████████████████████████████████████▉                                                              | 21003/50000 [20:04<30:48, 15.69it/s]"
     ]
    },
    {
     "name": "stdout",
     "output_type": "stream",
     "text": [
      "21000/50000 - 0.07136666774749756\n"
     ]
    },
    {
     "name": "stderr",
     "output_type": "stream",
     "text": [
      " 44%|███████████████████████████████████████████████                                                            | 22001/50000 [21:03<30:19, 15.39it/s]"
     ]
    },
    {
     "name": "stdout",
     "output_type": "stream",
     "text": [
      "22000/50000 - 0.05816667526960373\n"
     ]
    },
    {
     "name": "stderr",
     "output_type": "stream",
     "text": [
      " 46%|█████████████████████████████████████████████████▏                                                         | 23001/50000 [22:21<32:04, 14.03it/s]"
     ]
    },
    {
     "name": "stdout",
     "output_type": "stream",
     "text": [
      "23000/50000 - 0.08856666833162308\n"
     ]
    },
    {
     "name": "stderr",
     "output_type": "stream",
     "text": [
      " 48%|███████████████████████████████████████████████████▎                                                       | 24001/50000 [23:35<30:14, 14.33it/s]"
     ]
    },
    {
     "name": "stdout",
     "output_type": "stream",
     "text": [
      "24000/50000 - 0.09616667777299881\n"
     ]
    },
    {
     "name": "stderr",
     "output_type": "stream",
     "text": [
      " 50%|█████████████████████████████████████████████████████▌                                                     | 25003/50000 [24:43<25:41, 16.22it/s]"
     ]
    },
    {
     "name": "stdout",
     "output_type": "stream",
     "text": [
      "25000/50000 - 0.09019999951124191\n"
     ]
    },
    {
     "name": "stderr",
     "output_type": "stream",
     "text": [
      " 52%|███████████████████████████████████████████████████████▋                                                   | 26001/50000 [25:46<25:35, 15.63it/s]"
     ]
    },
    {
     "name": "stdout",
     "output_type": "stream",
     "text": [
      "26000/50000 - 0.10763333737850189\n"
     ]
    },
    {
     "name": "stderr",
     "output_type": "stream",
     "text": [
      " 54%|█████████████████████████████████████████████████████████▊                                                 | 27000/50000 [26:46<30:20, 12.63it/s]"
     ]
    },
    {
     "name": "stdout",
     "output_type": "stream",
     "text": [
      "27000/50000 - 0.113433338701725\n"
     ]
    },
    {
     "name": "stderr",
     "output_type": "stream",
     "text": [
      " 56%|███████████████████████████████████████████████████████████▉                                               | 28001/50000 [27:49<22:32, 16.26it/s]"
     ]
    },
    {
     "name": "stdout",
     "output_type": "stream",
     "text": [
      "28000/50000 - 0.11889999359846115\n"
     ]
    },
    {
     "name": "stderr",
     "output_type": "stream",
     "text": [
      " 58%|██████████████████████████████████████████████████████████████                                             | 29002/50000 [28:47<19:49, 17.66it/s]"
     ]
    },
    {
     "name": "stdout",
     "output_type": "stream",
     "text": [
      "29000/50000 - 0.10379999130964279\n"
     ]
    },
    {
     "name": "stderr",
     "output_type": "stream",
     "text": [
      " 60%|████████████████████████████████████████████████████████████████▏                                          | 30003/50000 [29:30<13:50, 24.07it/s]"
     ]
    },
    {
     "name": "stdout",
     "output_type": "stream",
     "text": [
      "30000/50000 - 0.10703333467245102\n"
     ]
    },
    {
     "name": "stderr",
     "output_type": "stream",
     "text": [
      " 62%|██████████████████████████████████████████████████████████████████▎                                        | 31005/50000 [30:10<11:42, 27.04it/s]"
     ]
    },
    {
     "name": "stdout",
     "output_type": "stream",
     "text": [
      "31000/50000 - 0.10790000110864639\n"
     ]
    },
    {
     "name": "stderr",
     "output_type": "stream",
     "text": [
      " 64%|████████████████████████████████████████████████████████████████████▍                                      | 32002/50000 [30:54<14:50, 20.22it/s]"
     ]
    },
    {
     "name": "stdout",
     "output_type": "stream",
     "text": [
      "32000/50000 - 0.13196666538715363\n"
     ]
    },
    {
     "name": "stderr",
     "output_type": "stream",
     "text": [
      " 66%|██████████████████████████████████████████████████████████████████████▌                                    | 33002/50000 [31:34<11:07, 25.48it/s]"
     ]
    },
    {
     "name": "stdout",
     "output_type": "stream",
     "text": [
      "33000/50000 - 0.11966666579246521\n"
     ]
    },
    {
     "name": "stderr",
     "output_type": "stream",
     "text": [
      " 68%|████████████████████████████████████████████████████████████████████████▊                                  | 34001/50000 [32:17<12:27, 21.40it/s]"
     ]
    },
    {
     "name": "stdout",
     "output_type": "stream",
     "text": [
      "34000/50000 - 0.11950000375509262\n"
     ]
    },
    {
     "name": "stderr",
     "output_type": "stream",
     "text": [
      " 70%|██████████████████████████████████████████████████████████████████████████▉                                | 35005/50000 [32:58<09:37, 25.97it/s]"
     ]
    },
    {
     "name": "stdout",
     "output_type": "stream",
     "text": [
      "35000/50000 - 0.1017666608095169\n"
     ]
    },
    {
     "name": "stderr",
     "output_type": "stream",
     "text": [
      " 72%|█████████████████████████████████████████████████████████████████████████████                              | 36004/50000 [33:36<08:53, 26.24it/s]"
     ]
    },
    {
     "name": "stdout",
     "output_type": "stream",
     "text": [
      "36000/50000 - 0.1296333372592926\n"
     ]
    },
    {
     "name": "stderr",
     "output_type": "stream",
     "text": [
      " 74%|███████████████████████████████████████████████████████████████████████████████▏                           | 37003/50000 [34:14<08:06, 26.71it/s]"
     ]
    },
    {
     "name": "stdout",
     "output_type": "stream",
     "text": [
      "37000/50000 - 0.11616666615009308\n"
     ]
    },
    {
     "name": "stderr",
     "output_type": "stream",
     "text": [
      " 76%|█████████████████████████████████████████████████████████████████████████████████▎                         | 38005/50000 [34:53<07:38, 26.15it/s]"
     ]
    },
    {
     "name": "stdout",
     "output_type": "stream",
     "text": [
      "38000/50000 - 0.11160000413656235\n"
     ]
    },
    {
     "name": "stderr",
     "output_type": "stream",
     "text": [
      " 78%|███████████████████████████████████████████████████████████████████████████████████▍                       | 39004/50000 [35:30<06:45, 27.12it/s]"
     ]
    },
    {
     "name": "stdout",
     "output_type": "stream",
     "text": [
      "39000/50000 - 0.11286664754152298\n"
     ]
    },
    {
     "name": "stderr",
     "output_type": "stream",
     "text": [
      " 80%|█████████████████████████████████████████████████████████████████████████████████████▌                     | 40003/50000 [36:08<06:49, 24.41it/s]"
     ]
    },
    {
     "name": "stdout",
     "output_type": "stream",
     "text": [
      "40000/50000 - 0.11719999462366104\n"
     ]
    },
    {
     "name": "stderr",
     "output_type": "stream",
     "text": [
      " 82%|███████████████████████████████████████████████████████████████████████████████████████▋                   | 41003/50000 [36:51<07:01, 21.33it/s]"
     ]
    },
    {
     "name": "stdout",
     "output_type": "stream",
     "text": [
      "41000/50000 - 0.12296666949987411\n"
     ]
    },
    {
     "name": "stderr",
     "output_type": "stream",
     "text": [
      " 84%|█████████████████████████████████████████████████████████████████████████████████████████▉                 | 42002/50000 [37:32<05:33, 23.97it/s]"
     ]
    },
    {
     "name": "stdout",
     "output_type": "stream",
     "text": [
      "42000/50000 - 0.10480000078678131\n"
     ]
    },
    {
     "name": "stderr",
     "output_type": "stream",
     "text": [
      " 86%|████████████████████████████████████████████████████████████████████████████████████████████               | 43004/50000 [38:14<04:34, 25.49it/s]"
     ]
    },
    {
     "name": "stdout",
     "output_type": "stream",
     "text": [
      "43000/50000 - 0.1333666443824768\n"
     ]
    },
    {
     "name": "stderr",
     "output_type": "stream",
     "text": [
      " 88%|██████████████████████████████████████████████████████████████████████████████████████████████▏            | 44003/50000 [38:55<04:13, 23.67it/s]"
     ]
    },
    {
     "name": "stdout",
     "output_type": "stream",
     "text": [
      "44000/50000 - 0.10856667160987854\n"
     ]
    },
    {
     "name": "stderr",
     "output_type": "stream",
     "text": [
      " 90%|████████████████████████████████████████████████████████████████████████████████████████████████▎          | 45003/50000 [39:39<03:22, 24.68it/s]"
     ]
    },
    {
     "name": "stdout",
     "output_type": "stream",
     "text": [
      "45000/50000 - 0.10829999297857285\n"
     ]
    },
    {
     "name": "stderr",
     "output_type": "stream",
     "text": [
      " 92%|██████████████████████████████████████████████████████████████████████████████████████████████████▍        | 46004/50000 [40:23<02:43, 24.51it/s]"
     ]
    },
    {
     "name": "stdout",
     "output_type": "stream",
     "text": [
      "46000/50000 - 0.10533333569765091\n"
     ]
    },
    {
     "name": "stderr",
     "output_type": "stream",
     "text": [
      " 94%|████████████████████████████████████████████████████████████████████████████████████████████████████▌      | 47001/50000 [41:11<03:07, 16.00it/s]"
     ]
    },
    {
     "name": "stdout",
     "output_type": "stream",
     "text": [
      "47000/50000 - 0.11836665123701096\n"
     ]
    },
    {
     "name": "stderr",
     "output_type": "stream",
     "text": [
      " 96%|██████████████████████████████████████████████████████████████████████████████████████████████████████▋    | 48001/50000 [42:14<02:28, 13.45it/s]"
     ]
    },
    {
     "name": "stdout",
     "output_type": "stream",
     "text": [
      "48000/50000 - 0.12916666269302368\n"
     ]
    },
    {
     "name": "stderr",
     "output_type": "stream",
     "text": [
      " 98%|████████████████████████████████████████████████████████████████████████████████████████████████████████▊  | 49003/50000 [43:21<01:01, 16.19it/s]"
     ]
    },
    {
     "name": "stdout",
     "output_type": "stream",
     "text": [
      "49000/50000 - 0.10240001231431961\n"
     ]
    },
    {
     "name": "stderr",
     "output_type": "stream",
     "text": [
      "100%|███████████████████████████████████████████████████████████████████████████████████████████████████████████| 50000/50000 [44:34<00:00, 18.70it/s]\n"
     ]
    }
   ],
   "source": [
    "# Define variables for training\n",
    "train_env = get_env(100)\n",
    "train_agent = Agent(train_env.boards)\n",
    "train_total_rewards, train_fruits_eaten, train_wall_hits, train_body_hits = [], [], [], []\n",
    "epsilon = 1.0\n",
    "min_epsilon = 0.1\n",
    "decay_rate = 0.99\n",
    "mse = tf.keras.losses.MeanSquaredError() \n",
    "\n",
    "for iteration in trange(50000):\n",
    "    if iteration % 150 == 0 and epsilon > min_epsilon: \n",
    "        epsilon = epsilon * decay_rate\n",
    "    if iteration % 1000 == 0:\n",
    "        print(f\"{iteration}/{50000} - {np.mean(train_total_rewards[-30:]) or 0}\", end=\"\\n\")\n",
    "    \n",
    "    # Get current state of the board \n",
    "    states = train_env.to_state()\n",
    "    #states = tf.reshape(tf.math.argmax(states, axis=-1), (len(train_env.boards), train_env.board_size, train_env.board_size)) + tf.cast(tf.reduce_sum(states, axis=-1), tf.int64)\n",
    "    \n",
    "    with tf.GradientTape(persistent=True) as tape:\n",
    "\n",
    "        # Compute the q-values for the current state\n",
    "        q_values = train_agent.network(states)\n",
    "        \n",
    "        # Sample action using an epsilon-greedy policy based on Q\n",
    "        if np.random.rand() < epsilon:\n",
    "            train_actions = tf.random.categorical(q_values, 1)\n",
    "        else: \n",
    "            train_actions = tf.expand_dims(tf.argmax(q_values, axis=1), axis=1)\n",
    "        \n",
    "        # Observe rewards\n",
    "        train_rewards = train_env.move(train_actions)\n",
    "\n",
    "        # Collect some data\n",
    "        train_fruits_eaten.append(tf.math.count_nonzero(tf.reshape(train_rewards, -1) == 0.5).numpy())\n",
    "        train_wall_hits.append(tf.math.count_nonzero(tf.reshape(train_rewards, -1) == -0.1).numpy())\n",
    "        train_body_hits.append(tf.math.count_nonzero(tf.reshape(train_rewards, -1) == -0.2).numpy())\n",
    "        train_total_rewards.append(np.mean(train_rewards))\n",
    "        \n",
    "        # Observe new states\n",
    "        new_states = train_env.to_state()\n",
    "        #new_states = tf.reshape(tf.math.argmax(new_states, axis=-1), (len(train_env.boards), train_env.board_size, train_env.board_size)) + tf.cast(tf.reduce_sum(new_states, axis=-1), tf.int64)\n",
    "        \n",
    "        # Start learning\n",
    "        one_hot_actions = tf.reshape(tf.one_hot(train_actions, 4), (len(train_env.boards), 4))\n",
    "        action_net = train_agent.network(states)\n",
    "        actions_q_value = tf.reduce_sum(one_hot_actions * action_net, axis=-1, keepdims=True)\n",
    "        q_target = train_agent.target_network(new_states)\n",
    "\n",
    "        # Compute loss of iteration\n",
    "        y_i = train_rewards  + train_agent.discount * tf.expand_dims(tf.reduce_max(q_target, axis=1), axis=1)\n",
    "        loss = mse(y_i, actions_q_value)\n",
    "        \n",
    "    # Update weights of the network\n",
    "    gradient = tape.gradient(loss, train_agent.network.trainable_weights)\n",
    "    train_agent.optimizer_net.apply_gradients(zip(gradient, train_agent.network.trainable_weights))           \n",
    "\n",
    "    # Every 2000 iterations update the weights of the target network\n",
    "    if iteration % 2000 == 0:\n",
    "        train_agent.target_network.set_weights(train_agent.network.get_weights())         "
   ]
  },
  {
   "cell_type": "code",
   "execution_count": 7,
   "metadata": {},
   "outputs": [],
   "source": [
    "train_agent.network.save_weights('weights')"
   ]
  },
  {
   "cell_type": "code",
   "execution_count": 20,
   "metadata": {},
   "outputs": [],
   "source": [
    "np.save('train_fruits.npy', train_fruits_eaten)\n",
    "np.save('train_walls.npy', train_wall_hits)\n",
    "np.save('train_bodies.npy', train_body_hits)\n",
    "np.save('train_reward.npy', train_total_rewards)"
   ]
  },
  {
   "cell_type": "markdown",
   "metadata": {},
   "source": [
    "# Heuristic/Baseline Policy #"
   ]
  },
  {
   "cell_type": "code",
   "execution_count": 8,
   "metadata": {
    "id": "rfKOMwDwz8Eg"
   },
   "outputs": [],
   "source": [
    "def retrieveBoardPositions(board):\n",
    "    \"\"\"\n",
    "        Function to retrieve the position of the elements in the board.\n",
    "    \"\"\"\n",
    "    head = np.argwhere(board == environments_fully_observable.BaseEnvironment.HEAD)\n",
    "    walls = np.argwhere(board == environments_fully_observable.BaseEnvironment.WALL)\n",
    "    fruit = np.argwhere(board == environments_fully_observable.BaseEnvironment.FRUIT)\n",
    "    body = np.argwhere(board == environments_fully_observable.BaseEnvironment.BODY)\n",
    "    return head, walls, fruit, body"
   ]
  },
  {
   "cell_type": "code",
   "execution_count": 9,
   "metadata": {
    "id": "Oo1dwNWxz8Eg"
   },
   "outputs": [],
   "source": [
    "def computePath(board, boards_size, prev_head):\n",
    "    paths = []\n",
    "    head, walls, fruit, body = retrieveBoardPositions(board)\n",
    "    paths = BFS(head, walls, fruit, body)\n",
    "    if len(paths) > 0:\n",
    "        return paths\n",
    "    else:\n",
    "        paths = nextMove(head, body, walls, prev_head)\n",
    "        return paths"
   ]
  },
  {
   "cell_type": "code",
   "execution_count": 10,
   "metadata": {
    "id": "HQCvRU_yz8Eg"
   },
   "outputs": [],
   "source": [
    "def getDirections(step, heads):\n",
    "    directions = {(1, 0): 'UP', (0, -1): 'LEFT', (-1, 0): 'DOWN', (0, 1): 'RIGHT'}\n",
    "    step = np.array(step)\n",
    "    heads = np.array(heads)\n",
    "    diff = step - heads # Calculate the coordinate differences\n",
    "\n",
    "    # Initialize an empty list to store the directions\n",
    "    directions_list = []\n",
    "\n",
    "    # Check the differences in coordinates to determine the direction of movement\n",
    "    for d in diff:\n",
    "        if d[0] == 1:\n",
    "            directions_list.append('UP')\n",
    "        elif d[0] == -1:\n",
    "            directions_list.append('DOWN')\n",
    "        elif d[1] == -1:\n",
    "            directions_list.append('LEFT')\n",
    "        elif d[1] == 1:\n",
    "            directions_list.append('RIGHT')\n",
    "        else:\n",
    "            directions_list.append('UNKNOWN')\n",
    "\n",
    "    return directions_list"
   ]
  },
  {
   "cell_type": "code",
   "execution_count": 11,
   "metadata": {
    "id": "O2dY13jPz8Eh"
   },
   "outputs": [],
   "source": [
    "def getProbabilities(directions):\n",
    "    prob = []\n",
    "    for direction in directions:\n",
    "        if direction == 'UP':\n",
    "            prob.append([1,0,0,0])\n",
    "        elif direction == 'RIGHT':\n",
    "            prob.append([0,1,0,0])\n",
    "        elif direction == 'DOWN':\n",
    "            prob.append([0,0,1,0])\n",
    "        elif direction == 'LEFT':\n",
    "            prob.append([0,0,0,1])\n",
    "        else:\n",
    "            prob.append([4,4,0,0,0])\n",
    "    return prob"
   ]
  },
  {
   "cell_type": "code",
   "execution_count": 12,
   "metadata": {
    "id": "PPkMOivQz8Eh"
   },
   "outputs": [],
   "source": [
    "def nextMove(head, body, walls, prev_head):\n",
    "    movements = np.array([[1, 0], [0, 1], [-1, 0], [0, -1]])\n",
    "    new_heads = head + movements\n",
    "    prev_head = np.array(prev_head[1:])\n",
    "    indices = []\n",
    "    # Iterate through each row in heads\n",
    "    for head in new_heads:\n",
    "        # Check if the row is present in body\n",
    "        if not np.array_equal(head, prev_head):\n",
    "            if not any(np.array_equal(head, w) for w in walls) and not any(np.array_equal(head, b) for b in body):\n",
    "                return [head]\n",
    "            else:\n",
    "                matching_rows = np.where(np.all(body == head, axis=1))[0]\n",
    "                if matching_rows.size > 0:\n",
    "                    indices.append(matching_rows[0])\n",
    "    if len(indices) > 0:\n",
    "        move = np.random.choice(indices)\n",
    "        path = [body[move]]\n",
    "        return path"
   ]
  },
  {
   "cell_type": "code",
   "execution_count": 13,
   "metadata": {
    "id": "OhkWc2b9z8Eh"
   },
   "outputs": [],
   "source": [
    "def BFS(head, walls, fruit, body):\n",
    "    visited = []\n",
    "    queue = [(head[0], [])]  # Initialize queue with start cell and empty path\n",
    "    movements = np.array([[1, 0], [0, 1], [-1, 0], [0, -1]])\n",
    "    while queue:\n",
    "        current, path = queue.pop(0)\n",
    "        if np.array_equal(current, fruit[0]):\n",
    "            path.append(current)\n",
    "            return path[1:]\n",
    "\n",
    "        if any(np.all(current == v) for v in visited):\n",
    "            continue\n",
    "\n",
    "        visited.append(current)\n",
    "        # Check each adjacent cell\n",
    "        new_heads = current + movements\n",
    "\n",
    "        for neighbor in new_heads:\n",
    "            if not any(np.array_equal(neighbor, v) for v in visited):\n",
    "                if not any(np.array_equal(neighbor, w) for w in walls) and not any(np.array_equal(neighbor, b) for b in body):\n",
    "                    queue.append((neighbor, path + [current]))\n",
    "    return []"
   ]
  },
  {
   "cell_type": "code",
   "execution_count": 74,
   "metadata": {
    "colab": {
     "base_uri": "https://localhost:8080/",
     "height": 372
    },
    "id": "P_N7lP1Bz8Eh",
    "outputId": "dae2aeb1-51d3-4cfd-896a-cb51a48f0f91"
   },
   "outputs": [
    {
     "name": "stderr",
     "output_type": "stream",
     "text": [
      "  0%|                                                                                                                       | 0/50000 [00:00<?, ?it/s]/home/michele/.local/lib/python3.10/site-packages/numpy/core/fromnumeric.py:3504: RuntimeWarning: Mean of empty slice.\n",
      "  return _methods._mean(a, axis=axis, dtype=dtype,\n",
      "/home/michele/.local/lib/python3.10/site-packages/numpy/core/_methods.py:129: RuntimeWarning: invalid value encountered in scalar divide\n",
      "  ret = ret.dtype.type(ret / rcount)\n",
      "  0%|                                                                                                             | 3/50000 [00:00<1:36:38,  8.62it/s]"
     ]
    },
    {
     "name": "stdout",
     "output_type": "stream",
     "text": [
      "0/50000 - nan\n"
     ]
    },
    {
     "name": "stderr",
     "output_type": "stream",
     "text": [
      "  1%|▋                                                                                                            | 319/50000 [00:22<59:40, 13.87it/s]\n"
     ]
    },
    {
     "ename": "KeyboardInterrupt",
     "evalue": "",
     "output_type": "error",
     "traceback": [
      "\u001b[0;31m---------------------------------------------------------------------------\u001b[0m",
      "\u001b[0;31mKeyboardInterrupt\u001b[0m                         Traceback (most recent call last)",
      "\u001b[0;32m/tmp/ipykernel_153207/70340112.py\u001b[0m in \u001b[0;36m<module>\u001b[0;34m\u001b[0m\n\u001b[1;32m     19\u001b[0m         \u001b[0;32mif\u001b[0m \u001b[0;32mnot\u001b[0m \u001b[0mpaths\u001b[0m\u001b[0;34m[\u001b[0m\u001b[0mp\u001b[0m\u001b[0;34m]\u001b[0m\u001b[0;34m:\u001b[0m\u001b[0;34m\u001b[0m\u001b[0;34m\u001b[0m\u001b[0m\n\u001b[1;32m     20\u001b[0m             \u001b[0;31m# If the path is empty we compute a new one to the fruit for the specific board\u001b[0m\u001b[0;34m\u001b[0m\u001b[0;34m\u001b[0m\u001b[0m\n\u001b[0;32m---> 21\u001b[0;31m             \u001b[0mpaths\u001b[0m\u001b[0;34m[\u001b[0m\u001b[0mp\u001b[0m\u001b[0;34m]\u001b[0m \u001b[0;34m=\u001b[0m \u001b[0mcomputePath\u001b[0m\u001b[0;34m(\u001b[0m\u001b[0mheur_env\u001b[0m\u001b[0;34m.\u001b[0m\u001b[0mboards\u001b[0m\u001b[0;34m[\u001b[0m\u001b[0mp\u001b[0m\u001b[0;34m]\u001b[0m\u001b[0;34m,\u001b[0m \u001b[0mheur_env\u001b[0m\u001b[0;34m.\u001b[0m\u001b[0mboard_size\u001b[0m\u001b[0;34m,\u001b[0m \u001b[0mprev_head\u001b[0m\u001b[0;34m[\u001b[0m\u001b[0mp\u001b[0m\u001b[0;34m]\u001b[0m\u001b[0;34m)\u001b[0m\u001b[0;34m\u001b[0m\u001b[0;34m\u001b[0m\u001b[0m\n\u001b[0m\u001b[1;32m     22\u001b[0m     \u001b[0;32mif\u001b[0m \u001b[0mt\u001b[0m \u001b[0;34m%\u001b[0m \u001b[0;36m1000\u001b[0m \u001b[0;34m==\u001b[0m \u001b[0;36m0\u001b[0m\u001b[0;34m:\u001b[0m\u001b[0;34m\u001b[0m\u001b[0;34m\u001b[0m\u001b[0m\n\u001b[1;32m     23\u001b[0m         \u001b[0mprint\u001b[0m\u001b[0;34m(\u001b[0m\u001b[0;34mf\"{t}/{50000} - {np.mean(heur_reward[-30:]) or 0}\"\u001b[0m\u001b[0;34m,\u001b[0m \u001b[0mend\u001b[0m\u001b[0;34m=\u001b[0m\u001b[0;34m\"\\n\"\u001b[0m\u001b[0;34m)\u001b[0m\u001b[0;34m\u001b[0m\u001b[0;34m\u001b[0m\u001b[0m\n",
      "\u001b[0;32m/tmp/ipykernel_153207/2643467968.py\u001b[0m in \u001b[0;36mcomputePath\u001b[0;34m(board, boards_size, prev_head)\u001b[0m\n\u001b[1;32m      2\u001b[0m     \u001b[0mpaths\u001b[0m \u001b[0;34m=\u001b[0m \u001b[0;34m[\u001b[0m\u001b[0;34m]\u001b[0m\u001b[0;34m\u001b[0m\u001b[0;34m\u001b[0m\u001b[0m\n\u001b[1;32m      3\u001b[0m     \u001b[0mhead\u001b[0m\u001b[0;34m,\u001b[0m \u001b[0mwalls\u001b[0m\u001b[0;34m,\u001b[0m \u001b[0mfruit\u001b[0m\u001b[0;34m,\u001b[0m \u001b[0mbody\u001b[0m \u001b[0;34m=\u001b[0m \u001b[0mretrieveBoardPositions\u001b[0m\u001b[0;34m(\u001b[0m\u001b[0mboard\u001b[0m\u001b[0;34m)\u001b[0m\u001b[0;34m\u001b[0m\u001b[0;34m\u001b[0m\u001b[0m\n\u001b[0;32m----> 4\u001b[0;31m     \u001b[0mpaths\u001b[0m \u001b[0;34m=\u001b[0m \u001b[0mBFS\u001b[0m\u001b[0;34m(\u001b[0m\u001b[0mhead\u001b[0m\u001b[0;34m,\u001b[0m \u001b[0mwalls\u001b[0m\u001b[0;34m,\u001b[0m \u001b[0mfruit\u001b[0m\u001b[0;34m,\u001b[0m \u001b[0mbody\u001b[0m\u001b[0;34m)\u001b[0m\u001b[0;34m\u001b[0m\u001b[0;34m\u001b[0m\u001b[0m\n\u001b[0m\u001b[1;32m      5\u001b[0m     \u001b[0;32mif\u001b[0m \u001b[0mlen\u001b[0m\u001b[0;34m(\u001b[0m\u001b[0mpaths\u001b[0m\u001b[0;34m)\u001b[0m \u001b[0;34m>\u001b[0m \u001b[0;36m0\u001b[0m\u001b[0;34m:\u001b[0m\u001b[0;34m\u001b[0m\u001b[0;34m\u001b[0m\u001b[0m\n\u001b[1;32m      6\u001b[0m         \u001b[0;32mreturn\u001b[0m \u001b[0mpaths\u001b[0m\u001b[0;34m\u001b[0m\u001b[0;34m\u001b[0m\u001b[0m\n",
      "\u001b[0;32m/tmp/ipykernel_153207/1507476769.py\u001b[0m in \u001b[0;36mBFS\u001b[0;34m(head, walls, fruit, body)\u001b[0m\n\u001b[1;32m     17\u001b[0m \u001b[0;34m\u001b[0m\u001b[0m\n\u001b[1;32m     18\u001b[0m         \u001b[0;32mfor\u001b[0m \u001b[0mneighbor\u001b[0m \u001b[0;32min\u001b[0m \u001b[0mnew_heads\u001b[0m\u001b[0;34m:\u001b[0m\u001b[0;34m\u001b[0m\u001b[0;34m\u001b[0m\u001b[0m\n\u001b[0;32m---> 19\u001b[0;31m             \u001b[0;32mif\u001b[0m \u001b[0;32mnot\u001b[0m \u001b[0many\u001b[0m\u001b[0;34m(\u001b[0m\u001b[0mnp\u001b[0m\u001b[0;34m.\u001b[0m\u001b[0marray_equal\u001b[0m\u001b[0;34m(\u001b[0m\u001b[0mneighbor\u001b[0m\u001b[0;34m,\u001b[0m \u001b[0mv\u001b[0m\u001b[0;34m)\u001b[0m \u001b[0;32mfor\u001b[0m \u001b[0mv\u001b[0m \u001b[0;32min\u001b[0m \u001b[0mvisited\u001b[0m\u001b[0;34m)\u001b[0m\u001b[0;34m:\u001b[0m\u001b[0;34m\u001b[0m\u001b[0;34m\u001b[0m\u001b[0m\n\u001b[0m\u001b[1;32m     20\u001b[0m                 \u001b[0;32mif\u001b[0m \u001b[0;32mnot\u001b[0m \u001b[0many\u001b[0m\u001b[0;34m(\u001b[0m\u001b[0mnp\u001b[0m\u001b[0;34m.\u001b[0m\u001b[0marray_equal\u001b[0m\u001b[0;34m(\u001b[0m\u001b[0mneighbor\u001b[0m\u001b[0;34m,\u001b[0m \u001b[0mw\u001b[0m\u001b[0;34m)\u001b[0m \u001b[0;32mfor\u001b[0m \u001b[0mw\u001b[0m \u001b[0;32min\u001b[0m \u001b[0mwalls\u001b[0m\u001b[0;34m)\u001b[0m \u001b[0;32mand\u001b[0m \u001b[0;32mnot\u001b[0m \u001b[0many\u001b[0m\u001b[0;34m(\u001b[0m\u001b[0mnp\u001b[0m\u001b[0;34m.\u001b[0m\u001b[0marray_equal\u001b[0m\u001b[0;34m(\u001b[0m\u001b[0mneighbor\u001b[0m\u001b[0;34m,\u001b[0m \u001b[0mb\u001b[0m\u001b[0;34m)\u001b[0m \u001b[0;32mfor\u001b[0m \u001b[0mb\u001b[0m \u001b[0;32min\u001b[0m \u001b[0mbody\u001b[0m\u001b[0;34m)\u001b[0m\u001b[0;34m:\u001b[0m\u001b[0;34m\u001b[0m\u001b[0;34m\u001b[0m\u001b[0m\n\u001b[1;32m     21\u001b[0m                     \u001b[0mqueue\u001b[0m\u001b[0;34m.\u001b[0m\u001b[0mappend\u001b[0m\u001b[0;34m(\u001b[0m\u001b[0;34m(\u001b[0m\u001b[0mneighbor\u001b[0m\u001b[0;34m,\u001b[0m \u001b[0mpath\u001b[0m \u001b[0;34m+\u001b[0m \u001b[0;34m[\u001b[0m\u001b[0mcurrent\u001b[0m\u001b[0;34m]\u001b[0m\u001b[0;34m)\u001b[0m\u001b[0;34m)\u001b[0m\u001b[0;34m\u001b[0m\u001b[0;34m\u001b[0m\u001b[0m\n",
      "\u001b[0;31mKeyboardInterrupt\u001b[0m: "
     ]
    }
   ],
   "source": [
    "# Define variables for heuristic approach \n",
    "heur_env = get_env(100) # Environment, we just pick one board to go faster\n",
    "heur_reward, heur_fruits, heur_wall_hits, heur_body_hits = [], [], [], []\n",
    "paths = [[] for _ in range(len(heur_env.boards))]\n",
    "prev_head = [[]for _ in range(len(heur_env.boards))]\n",
    "\n",
    "\"\"\"\n",
    "output_folder = 'plot_images_folder'\n",
    "if not os.path.exists(output_folder):\n",
    "    os.makedirs(output_folder)\n",
    "plot_images = []\n",
    "\"\"\"\n",
    "\n",
    "for t in trange(50000):\n",
    "    # For each path to the fruit check if it is empty or not\n",
    "    # This is to handle the case of multiple boards playing in parallel. Different boards may have different lenght of \n",
    "    # thus we need to handle each path separately \n",
    "    for p in range(len(paths)):\n",
    "        if not paths[p]:\n",
    "            # If the path is empty we compute a new one to the fruit for the specific board\n",
    "            paths[p] = computePath(heur_env.boards[p], heur_env.board_size, prev_head[p])\n",
    "    if t % 1000 == 0:\n",
    "        print(f\"{t}/{50000} - {np.mean(heur_reward[-30:]) or 0}\", end=\"\\n\")\n",
    "    \n",
    "    # Get the first step from each path in the array of paths\n",
    "    step = [path.pop(0) for path in paths if path]\n",
    "    \n",
    "    # Get the direction of the step, need step and current cell location\n",
    "    directions = getDirections(step, np.argwhere(heur_env.boards == environments_fully_observable.BaseEnvironment.HEAD)[:,[1,2]])\n",
    "    \n",
    "    # Compute the probability of taking that step\n",
    "    probabs = getProbabilities(directions)\n",
    "    probabilities = tf.convert_to_tensor(probabs)\n",
    "    \n",
    "    # Compute the action array\n",
    "    heur_actions =  tf.expand_dims(tf.argmax(probabilities, axis=1, output_type=tf.int32), axis=1)\n",
    "\n",
    "    \"\"\"\n",
    "    figs, axs=plt.subplots(1, 1, figsize=(10,3))\n",
    "    axs.get_yaxis().set_visible(False)\n",
    "    axs.get_xaxis().set_visible(False)\n",
    "    axs.imshow(heur_env.boards[0], origin=\"lower\")\n",
    "    \"\"\"\n",
    "    \n",
    "    # Save position of the current head. This is needed such that if, when there is the necessity of computing a new path\n",
    "    # the snake does not find one to the fruit, it avoids to eat \"behind hime\" in such a way that we do not lose all the body\n",
    "    prev_head = np.argwhere(heur_env.boards == environments_fully_observable.BaseEnvironment.HEAD)\n",
    "\n",
    "    # Observe reward by performing the actions selected\n",
    "    rew = heur_env.move(heur_actions)\n",
    "\n",
    "    # Collect data (mean_reward and number of fruit eaten)\n",
    "    heur_reward.append(np.mean(rew))\n",
    "    heur_fruits.append(tf.math.count_nonzero(tf.reshape(rew, -1) == 0.5).numpy())\n",
    "    heur_wall_hits.append(tf.math.count_nonzero(tf.reshape(rew, -1) == -0.1).numpy())\n",
    "    heur_body_hits.append(tf.math.count_nonzero(tf.reshape(rew, -1) == -0.2).numpy())\n",
    "    \"\"\"\n",
    "    # Append the current plot to the list\n",
    "    plot_images.append(fig_to_image(figs))\n",
    "    plot_image_path = os.path.join(output_folder, f'plot_{t:04d}.png')\n",
    "    plt.savefig(plot_image_path, bbox_inches='tight', pad_inches=0)\n",
    "    plt.close()  # Close the figure to prevent displaying inline\n",
    "    \"\"\"\n",
    "    \n",
    "# Create the animated GIF from the plots\n",
    "#output_gif = 'snake_game_BFS.gif'\n",
    "#imageio.mimsave(output_gif, plot_images_folder, duration=0.5)\n",
    "#display(Image(filename=output_gif))"
   ]
  },
  {
   "cell_type": "markdown",
   "metadata": {},
   "source": [
    "# Agent evaluation #"
   ]
  },
  {
   "cell_type": "code",
   "execution_count": 24,
   "metadata": {},
   "outputs": [],
   "source": [
    "np.save('heur_fruits.npy', heur_fruits)\n",
    "np.save('heur_walls.npy', heur_wall_hits)\n",
    "np.save('heur__bodies.npy', heur_body_hits)\n",
    "np.save('heur_reward.npy', heur_reward)"
   ]
  },
  {
   "cell_type": "code",
   "execution_count": 15,
   "metadata": {},
   "outputs": [
    {
     "data": {
      "text/plain": [
       "<tensorflow.python.checkpoint.checkpoint.CheckpointLoadStatus at 0x7f56b405b490>"
      ]
     },
     "execution_count": 15,
     "metadata": {},
     "output_type": "execute_result"
    }
   ],
   "source": [
    "evaluation_env = get_env(100)\n",
    "evaluation_agent = Agent(evaluation_env)\n",
    "evaluation_agent.network.load_weights('weights')"
   ]
  },
  {
   "cell_type": "code",
   "execution_count": 16,
   "metadata": {},
   "outputs": [
    {
     "name": "stderr",
     "output_type": "stream",
     "text": [
      "100%|███████████████████████████████████████████████████████████████████████████████████████████████████████████| 50000/50000 [18:50<00:00, 44.22it/s]\n"
     ]
    }
   ],
   "source": [
    "eval_fruits_eaten, eval_rewards = [], []\n",
    "\n",
    "for t in trange(50000):\n",
    "    # Interact with environment\n",
    "    state = evaluation_env.to_state()\n",
    "    q_values = evaluation_agent.network(state)\n",
    "    actions = tf.expand_dims(tf.argmax(q_values, axis=1), axis=1)\n",
    "    rewards = evaluation_env.move(actions)\n",
    "\n",
    "    # Collect some data\n",
    "    eval_fruits_eaten.append(tf.math.count_nonzero(tf.reshape(rewards, -1) == 0.5).numpy())\n",
    "    eval_rewards.append(np.mean(rewards))"
   ]
  },
  {
   "cell_type": "code",
   "execution_count": 30,
   "metadata": {},
   "outputs": [
    {
     "name": "stdout",
     "output_type": "stream",
     "text": [
      "ALL BELOW DATA ARE GATHERED OVER 50000 ITERATIONS\n",
      "Average reward achieved by the agent over one board: 0.13298593\n",
      "Average reward achieved by the heuristic policy over one board: 0.10934201\n",
      "Fruits eaten by the agent on average in one board: 14411.83\n",
      "Fruits eaten by the heuristic policy one average in one board: 11535\n",
      "Average number of times the agent hits the wall in one board: 2387.77\n",
      "Average number of times the heuristic policy hits the wall in one board: 0\n",
      "Average number of times the agent hits the body in one board: 3551.04\n",
      "Average number of times the heuristic policy hits the body in one board: 1562\n"
     ]
    }
   ],
   "source": [
    "efr = eval_fruits_eaten\n",
    "tfr = train_fruits_eaten\n",
    "\n",
    "#hfr = heur_fruits\n",
    "print(\"ALL BELOW DATA ARE GATHERED OVER 50000 ITERATIONS\")\n",
    "print(\"Average reward achieved by the agent over one board:\", np.mean(eval_rewards))\n",
    "print(\"Average reward achieved by the heuristic policy over one board:\", np.mean(heur_reward))\n",
    "print(\"Fruits eaten by the agent on average in one board:\", np.sum(efr)/100)\n",
    "print(\"Fruits eaten by the heuristic policy one average in one board:\", np.sum(heur_fruits))\n",
    "print(\"Average number of times the agent hits the wall in one board:\", np.sum(train_wall_hits)/100)\n",
    "print(\"Average number of times the heuristic policy hits the wall in one board:\", np.sum(heur_wall_hits))\n",
    "print(\"Average number of times the agent hits the body in one board:\", np.sum(train_body_hits)/100)\n",
    "print(\"Average number of times the heuristic policy hits the body in one board:\", np.sum(heur_body_hits))"
   ]
  },
  {
   "cell_type": "markdown",
   "metadata": {},
   "source": [
    "# Plots #"
   ]
  },
  {
   "cell_type": "code",
   "execution_count": 133,
   "metadata": {},
   "outputs": [],
   "source": [
    "heur_fruits = np.load('heur_fruits.npy')\n",
    "heur_wall_hits = np.load('heur_walls.npy')\n",
    "heur_body_hits = np.load('heur__bodies.npy')\n",
    "heur_reward = np.load('heur_reward.npy')"
   ]
  },
  {
   "cell_type": "code",
   "execution_count": 134,
   "metadata": {},
   "outputs": [
    {
     "data": {
      "image/png": "[encoded data removed]",
      "text/plain": [
       "<Figure size 720x432 with 1 Axes>"
      ]
     },
     "metadata": {
      "needs_background": "light"
     },
     "output_type": "display_data"
    }
   ],
   "source": [
    "fig. axs = plt.figure(figsize=(10, 6))\n",
    "\n",
    "\"\"\"\n",
    "Train total rewards:\n",
    "    - collected at each iteration\n",
    "    - avg reward among all 100 boards\n",
    "\n",
    "Need to reshape array such that it can be plotted\n",
    "\n",
    "Train fruit eaten:\n",
    "    - for the heuristic policy we have that over a 1000 iterations, the policy is capable to eat 230 fruits\n",
    "    - for the agent we can see how the training process allows to reach 250 fruits over 1000 iterations\n",
    "\n",
    "Body hits:\n",
    "    -\n",
    "\"\"\"\n",
    "\n",
    "train_wh = train_wall_hits\n",
    "train_wh = np.sum(np.reshape(train_wh, (50, 1000)), axis = 1)/100\n",
    "plt.plot(train_wh)\n",
    "plt.hlines(np.mean(np.sum(np.reshape(heur_wall_hits, (50, 1000)), axis=1)), 0, 50, colors='red', label='heuristic', linestyles='dotted')\n",
    "plt.show()\n"
   ]
  },
  {
   "cell_type": "markdown",
   "metadata": {},
   "source": [
    "## Training ##"
   ]
  },
  {
   "cell_type": "code",
   "execution_count": 135,
   "metadata": {},
   "outputs": [
    {
     "data": {
      "image/png": "[encoded data removed]",
      "text/plain": [
       "<Figure size 720x720 with 4 Axes>"
      ]
     },
     "metadata": {
      "needs_background": "light"
     },
     "output_type": "display_data"
    }
   ],
   "source": [
    "# Training statistics\n",
    "train_fruits = train_fruits_eaten\n",
    "train_reward = train_total_rewards\n",
    "train_wh = train_wall_hits\n",
    "train_bh = train_body_hits\n",
    "\n",
    "# Heuristic statistics\n",
    "heur_fe = heur_fruits\n",
    "heur_wh = heur_wall_hits\n",
    "heur_bh = heur_body_hits\n",
    "heuristic_reward = heur_reward\n",
    "\n",
    "N = 1000\n",
    "\n",
    "fig, axs = plt.subplots(2, 2, figsize=(10, 10))\n",
    "\n",
    "train_fruits = np.sum(np.reshape(train_fruits, (50, 1000)), axis = 1)/100\n",
    "axs[0, 0].plot(train_fruits, label='agent')\n",
    "axs[0, 0].hlines(np.mean(np.sum(np.reshape(heur_fruits, (50, 1000)), axis=1)), 0, 50, label='heuristic', color='red', linestyle='dotted')\n",
    "axs[0, 0].set(ylabel='Fruits')\n",
    "axs[0, 0].set(xlabel=\"Epochs\")\n",
    "axs[0, 0].legend()\n",
    "\n",
    "train_wh = train_wall_hits\n",
    "train_wh = np.sum(np.reshape(train_wh, (50, 1000)), axis = 1)/100\n",
    "axs[0, 1].plot(train_wh)\n",
    "axs[0, 1].hlines(np.mean(np.sum(np.reshape(heur_wall_hits, (50, 1000)), axis=1)), 0, 50, colors='red', label='heuristic', linestyles='dotted')\n",
    "axs[0, 1].set(ylabel='Wall hits')\n",
    "axs[0, 1].set(xlabel=\"Epochs\")\n",
    "\n",
    "train_bh = np.sum(np.reshape(train_bh, (50, 1000)), axis = 1)/100\n",
    "axs[1, 0].plot(train_bh)\n",
    "axs[1, 0].hlines(np.mean(np.sum(np.reshape(heur_body_hits, (50, 1000)), axis=1)), 0, 50, colors='red', label='heuristic', linestyles='dotted')\n",
    "axs[1, 0].set(ylabel='Body hits')\n",
    "axs[1, 0].set(xlabel=\"Epochs\")\n",
    "\n",
    "train_reward = np.mean(np.reshape(train_reward, (50, 1000)), axis=1)\n",
    "axs[1, 1].plot(train_reward, label='agent')\n",
    "axs[1, 1].hlines(np.mean(heuristic_reward), 0, 50, colors='red', label='heuristic', linestyles='dotted')\n",
    "axs[1, 1].set(ylabel='Reward')\n",
    "axs[1, 1].set(xlabel=\"Epochs\")\n",
    "axs[1, 1].legend(loc='lower right')\n",
    "\n",
    "fig.tight_layout(pad=3.0)"
   ]
  },
  {
   "cell_type": "markdown",
   "metadata": {},
   "source": [
    "## Evaluation ##"
   ]
  },
  {
   "cell_type": "code",
   "execution_count": 28,
   "metadata": {},
   "outputs": [
    {
     "name": "stderr",
     "output_type": "stream",
     "text": [
      "/tmp/ipykernel_153207/1341888637.py:10: UserWarning: FixedFormatter should only be used together with FixedLocator\n",
      "  axs[0].set_xticklabels('A')\n",
      "/tmp/ipykernel_153207/1341888637.py:11: UserWarning: FixedFormatter should only be used together with FixedLocator\n",
      "  axs[1].set_xticklabels('H')\n",
      "/tmp/ipykernel_153207/1341888637.py:12: UserWarning: FixedFormatter should only be used together with FixedLocator\n",
      "  axs[2].set_xticklabels('A')\n",
      "/tmp/ipykernel_153207/1341888637.py:13: UserWarning: FixedFormatter should only be used together with FixedLocator\n",
      "  axs[3].set_xticklabels('H')\n"
     ]
    },
    {
     "data": {
      "text/plain": [
       "[Text(657.704347826087, 0.5, 'Reward')]"
      ]
     },
     "execution_count": 28,
     "metadata": {},
     "output_type": "execute_result"
    },
    {
     "data": {
      "image/png": "[encoded data removed]",
      "text/plain": [
       "<Figure size 936x324 with 4 Axes>"
      ]
     },
     "metadata": {
      "needs_background": "light"
     },
     "output_type": "display_data"
    }
   ],
   "source": [
    "N = 1000 # number of iteration in each epoch\n",
    "\n",
    "eval_f = eval_fruits_eaten\n",
    "eval_r = eval_rewards\n",
    "heur_f = heur_fruits\n",
    "heur_r = heur_reward\n",
    "\n",
    "fig, axs = plt.subplots(1, 4, figsize=(13, 4.5))\n",
    "fig.tight_layout(pad=3.5)\n",
    "axs[0].set_xticklabels('A')\n",
    "axs[1].set_xticklabels('H')\n",
    "axs[2].set_xticklabels('A')\n",
    "axs[3].set_xticklabels('H')\n",
    "\n",
    "# Plot number of fruits eaten by agent vs heuristic\n",
    "eval_f = np.sum(np.reshape(eval_f, (50, 1000)), axis=1)/100\n",
    "heur_f = np.sum(np.reshape(heur_f, (50, 1000)), axis=1)\n",
    "axs[0].boxplot(eval_f, notch=True)\n",
    "axs[1].boxplot(heur_f, notch=True)\n",
    "axs[0].set(ylabel='Fruits')\n",
    "axs[1].set(ylabel='Fruits')\n",
    "\n",
    "# Plot reward of agent vs reward of heuristic\n",
    "heur_r = np.reshape(heur_r[:len(heur_r) // N * N], (-1, N)).mean(axis=-1)\n",
    "eval_r = np.reshape(eval_r[:len(eval_r) // N * N], (-1, N)).mean(axis=-1)\n",
    "axs[2].boxplot(eval_r, notch=True)\n",
    "axs[3].boxplot(heur_r, notch=True)\n",
    "axs[2].set(ylabel='Reward')\n",
    "axs[3].set(ylabel='Reward')"
   ]
  },
  {
   "cell_type": "code",
   "execution_count": null,
   "metadata": {},
   "outputs": [],
   "source": []
  }
 ],
 "metadata": {
  "colab": {
   "provenance": []
  },
  "kernelspec": {
   "display_name": "Python 3 (ipykernel)",
   "language": "python",
   "name": "python3"
  },
  "language_info": {
   "codemirror_mode": {
    "name": "ipython",
    "version": 3
   },
   "file_extension": ".py",
   "mimetype": "text/x-python",
   "name": "python",
   "nbconvert_exporter": "python",
   "pygments_lexer": "ipython3",
   "version": "3.10.12"
  }
 },
 "nbformat": 4,
 "nbformat_minor": 4
}
